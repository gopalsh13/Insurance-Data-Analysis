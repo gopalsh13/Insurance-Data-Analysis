{
 "cells": [
  {
   "cell_type": "markdown",
   "metadata": {
    "id": "gsGOOWtu7N6d",
    "run_control": {
     "marked": true
    }
   },
   "source": [
    "# Pru Wealth Data Test\n",
    "\n",
    "Below we will explore a mock database of customers, policies and funds that are similar to the Pru Wealth data. The first section of this notebook will test your SQL skills, the second section will test your Python skills and visualisation skills.\n",
    "\n",
    "The database file is called Prudential_Data.db\n",
    "\n",
    "The three tables included in this database are:\n",
    "* Customer_Table\n",
    "* Policy_Table\n",
    "* Fund_Table\n",
    "\n",
    "You will need to have the following packages installed in your Python environment:\n",
    "* numpy\n",
    "* pandas\n",
    "* sqlite3\n",
    "\n",
    "For visualization use any package of your choice (e.g., matplotlib, seaborn, plotly).\n",
    "\n",
    "Please complete and return the test before the deadline by emailing your copy of this notebook to: Denholm.Hesse@Prudential.co.uk. If you do not know the answer to a question feel free to use Google and Stack Overflow. This is to give you the option to teach yourself a concept from the internet to address a question which you do not know the answer to, please refrain from skipping questions. The test is meant to be completed by you only.\n",
    "\n",
    "Good luck and have fun!"
   ]
  },
  {
   "cell_type": "code",
   "execution_count": 1,
   "metadata": {
    "id": "YvlePmwO7N6k",
    "run_control": {
     "marked": true
    }
   },
   "outputs": [],
   "source": [
    "import numpy as np\n",
    "import pandas as pd\n",
    "import sqlite3\n",
    "import seaborn as sns\n",
    "import matplotlib.pyplot as plt"
   ]
  },
  {
   "cell_type": "markdown",
   "metadata": {
    "id": "NWC8kC0Z7N6n",
    "run_control": {
     "marked": true
    }
   },
   "source": [
    "# SQL test\n",
    "\n",
    "IMPORANT: Please make sure all questions in this section are solved using SQL by only editing the content of the variable *sqlite_query*. Please do not edit the below cell:"
   ]
  },
  {
   "cell_type": "code",
   "execution_count": 3,
   "metadata": {
    "id": "KhJHjlne7N6n",
    "run_control": {
     "marked": true
    }
   },
   "outputs": [],
   "source": [
    "# Establish DB connection\n",
    "conn = sqlite3.connect('Prudential_Data.db')"
   ]
  },
  {
   "cell_type": "markdown",
   "metadata": {
    "id": "XfYfjBO_7N6o"
   },
   "source": [
    "Below is an example of how to query the SQLlite databse from this Jupyter notebook. Please note that SQLlite might have a slightly different syntax from the SQL you normally use. Please do not edit the below cell:"
   ]
  },
  {
   "cell_type": "code",
   "execution_count": 4,
   "metadata": {
    "colab": {
     "base_uri": "https://localhost:8080/",
     "height": 81
    },
    "id": "rGwm8jjt7N6p",
    "outputId": "3e0df273-0c24-4aeb-96e0-fbf38d8ee388"
   },
   "outputs": [
    {
     "data": {
      "text/html": [
       "<div>\n",
       "<style scoped>\n",
       "    .dataframe tbody tr th:only-of-type {\n",
       "        vertical-align: middle;\n",
       "    }\n",
       "\n",
       "    .dataframe tbody tr th {\n",
       "        vertical-align: top;\n",
       "    }\n",
       "\n",
       "    .dataframe thead th {\n",
       "        text-align: right;\n",
       "    }\n",
       "</style>\n",
       "<table border=\"1\" class=\"dataframe\">\n",
       "  <thead>\n",
       "    <tr style=\"text-align: right;\">\n",
       "      <th></th>\n",
       "      <th>COUNT(*)</th>\n",
       "    </tr>\n",
       "  </thead>\n",
       "  <tbody>\n",
       "    <tr>\n",
       "      <th>0</th>\n",
       "      <td>1635</td>\n",
       "    </tr>\n",
       "  </tbody>\n",
       "</table>\n",
       "</div>"
      ],
      "text/plain": [
       "   COUNT(*)\n",
       "0      1635"
      ]
     },
     "execution_count": 4,
     "metadata": {},
     "output_type": "execute_result"
    }
   ],
   "source": [
    "sqlite_query = \"\"\"\n",
    "SELECT COUNT(*) \n",
    "from Policy_Table \n",
    "\"\"\"\n",
    "\n",
    "pd.read_sql(sqlite_query, conn)"
   ]
  },
  {
   "cell_type": "markdown",
   "metadata": {
    "id": "jd-ACsG17N6r",
    "run_control": {
     "marked": true
    }
   },
   "source": [
    "The first table \"Customer_Table\" contains personal information about the customers. Please do not edit the below cell:"
   ]
  },
  {
   "cell_type": "code",
   "execution_count": 5,
   "metadata": {
    "colab": {
     "base_uri": "https://localhost:8080/",
     "height": 205
    },
    "id": "ush5GFtT7N6t",
    "outputId": "4c5ed584-ea87-4984-fab7-7cc7d1ad6260",
    "run_control": {
     "marked": true
    }
   },
   "outputs": [
    {
     "data": {
      "text/html": [
       "<div>\n",
       "<style scoped>\n",
       "    .dataframe tbody tr th:only-of-type {\n",
       "        vertical-align: middle;\n",
       "    }\n",
       "\n",
       "    .dataframe tbody tr th {\n",
       "        vertical-align: top;\n",
       "    }\n",
       "\n",
       "    .dataframe thead th {\n",
       "        text-align: right;\n",
       "    }\n",
       "</style>\n",
       "<table border=\"1\" class=\"dataframe\">\n",
       "  <thead>\n",
       "    <tr style=\"text-align: right;\">\n",
       "      <th></th>\n",
       "      <th>index</th>\n",
       "      <th>Customer ID</th>\n",
       "      <th>Email</th>\n",
       "      <th>Gender</th>\n",
       "      <th>Age</th>\n",
       "      <th>Postcode</th>\n",
       "    </tr>\n",
       "  </thead>\n",
       "  <tbody>\n",
       "    <tr>\n",
       "      <th>0</th>\n",
       "      <td>0</td>\n",
       "      <td>CO183683</td>\n",
       "      <td>NLUPPITT14@PARALLELS.COM</td>\n",
       "      <td>Male</td>\n",
       "      <td>90</td>\n",
       "      <td>None</td>\n",
       "    </tr>\n",
       "    <tr>\n",
       "      <th>1</th>\n",
       "      <td>1</td>\n",
       "      <td>CO314757</td>\n",
       "      <td>None</td>\n",
       "      <td>Female</td>\n",
       "      <td>90</td>\n",
       "      <td>None</td>\n",
       "    </tr>\n",
       "    <tr>\n",
       "      <th>2</th>\n",
       "      <td>2</td>\n",
       "      <td>CO720602</td>\n",
       "      <td>None</td>\n",
       "      <td>Female</td>\n",
       "      <td>90</td>\n",
       "      <td>None</td>\n",
       "    </tr>\n",
       "    <tr>\n",
       "      <th>3</th>\n",
       "      <td>3</td>\n",
       "      <td>CO34804</td>\n",
       "      <td>None</td>\n",
       "      <td>Female</td>\n",
       "      <td>90</td>\n",
       "      <td>1495-701</td>\n",
       "    </tr>\n",
       "    <tr>\n",
       "      <th>4</th>\n",
       "      <td>4</td>\n",
       "      <td>CO474411</td>\n",
       "      <td>None</td>\n",
       "      <td>Male</td>\n",
       "      <td>90</td>\n",
       "      <td>301288</td>\n",
       "    </tr>\n",
       "  </tbody>\n",
       "</table>\n",
       "</div>"
      ],
      "text/plain": [
       "   index Customer ID                     Email  Gender  Age  Postcode\n",
       "0      0    CO183683  NLUPPITT14@PARALLELS.COM    Male   90      None\n",
       "1      1    CO314757                      None  Female   90      None\n",
       "2      2    CO720602                      None  Female   90      None\n",
       "3      3     CO34804                      None  Female   90  1495-701\n",
       "4      4    CO474411                      None    Male   90    301288"
      ]
     },
     "execution_count": 5,
     "metadata": {},
     "output_type": "execute_result"
    }
   ],
   "source": [
    "sqlite_query = \"\"\"\n",
    "SELECT * \n",
    "from Customer_Table \n",
    "limit 5\n",
    "\"\"\"\n",
    "\n",
    "pd.read_sql(sqlite_query, conn)"
   ]
  },
  {
   "cell_type": "markdown",
   "metadata": {
    "id": "bUoLfXft7N6u"
   },
   "source": [
    "The second table \"Policy_Table\" contains data relating to customer policies. The policy value is the current value of the policy. Please do not edit the below cell:"
   ]
  },
  {
   "cell_type": "code",
   "execution_count": 6,
   "metadata": {
    "colab": {
     "base_uri": "https://localhost:8080/",
     "height": 205
    },
    "id": "Pr-Sz2Zu7N6v",
    "outputId": "ce545093-e56e-4ecb-d04a-2e3646bc8d8d"
   },
   "outputs": [
    {
     "data": {
      "text/html": [
       "<div>\n",
       "<style scoped>\n",
       "    .dataframe tbody tr th:only-of-type {\n",
       "        vertical-align: middle;\n",
       "    }\n",
       "\n",
       "    .dataframe tbody tr th {\n",
       "        vertical-align: top;\n",
       "    }\n",
       "\n",
       "    .dataframe thead th {\n",
       "        text-align: right;\n",
       "    }\n",
       "</style>\n",
       "<table border=\"1\" class=\"dataframe\">\n",
       "  <thead>\n",
       "    <tr style=\"text-align: right;\">\n",
       "      <th></th>\n",
       "      <th>index</th>\n",
       "      <th>Policy Number</th>\n",
       "      <th>Customer ID</th>\n",
       "      <th>Product Category</th>\n",
       "      <th>Product Name</th>\n",
       "      <th>Policy Value</th>\n",
       "      <th>Policy Start Date</th>\n",
       "    </tr>\n",
       "  </thead>\n",
       "  <tbody>\n",
       "    <tr>\n",
       "      <th>0</th>\n",
       "      <td>0</td>\n",
       "      <td>RET100072</td>\n",
       "      <td>CO276506</td>\n",
       "      <td>RETIREMENT</td>\n",
       "      <td>RETIREMENT ACCOUNT</td>\n",
       "      <td>270033.0</td>\n",
       "      <td>2016-01-02 00:00:00</td>\n",
       "    </tr>\n",
       "    <tr>\n",
       "      <th>1</th>\n",
       "      <td>1</td>\n",
       "      <td>RET100931</td>\n",
       "      <td>CO831289</td>\n",
       "      <td>RETIREMENT</td>\n",
       "      <td>RETIREMENT ACCOUNT</td>\n",
       "      <td>26394.0</td>\n",
       "      <td>2016-01-04 00:00:00</td>\n",
       "    </tr>\n",
       "    <tr>\n",
       "      <th>2</th>\n",
       "      <td>2</td>\n",
       "      <td>RET100682</td>\n",
       "      <td>CO784249</td>\n",
       "      <td>RETIREMENT</td>\n",
       "      <td>RETIREMENT ACCOUNT</td>\n",
       "      <td>773567.0</td>\n",
       "      <td>2016-01-04 00:00:00</td>\n",
       "    </tr>\n",
       "    <tr>\n",
       "      <th>3</th>\n",
       "      <td>3</td>\n",
       "      <td>RET100447</td>\n",
       "      <td>CO295533</td>\n",
       "      <td>RETIREMENT</td>\n",
       "      <td>RETIREMENT ACCOUNT</td>\n",
       "      <td>35512.0</td>\n",
       "      <td>2016-01-07 00:00:00</td>\n",
       "    </tr>\n",
       "    <tr>\n",
       "      <th>4</th>\n",
       "      <td>4</td>\n",
       "      <td>RET100390</td>\n",
       "      <td>CO901735</td>\n",
       "      <td>RETIREMENT</td>\n",
       "      <td>RETIREMENT ACCOUNT</td>\n",
       "      <td>767580.0</td>\n",
       "      <td>2016-01-08 00:00:00</td>\n",
       "    </tr>\n",
       "  </tbody>\n",
       "</table>\n",
       "</div>"
      ],
      "text/plain": [
       "   index Policy Number Customer ID Product Category        Product Name  \\\n",
       "0      0     RET100072    CO276506       RETIREMENT  RETIREMENT ACCOUNT   \n",
       "1      1     RET100931    CO831289       RETIREMENT  RETIREMENT ACCOUNT   \n",
       "2      2     RET100682    CO784249       RETIREMENT  RETIREMENT ACCOUNT   \n",
       "3      3     RET100447    CO295533       RETIREMENT  RETIREMENT ACCOUNT   \n",
       "4      4     RET100390    CO901735       RETIREMENT  RETIREMENT ACCOUNT   \n",
       "\n",
       "   Policy Value    Policy Start Date  \n",
       "0      270033.0  2016-01-02 00:00:00  \n",
       "1       26394.0  2016-01-04 00:00:00  \n",
       "2      773567.0  2016-01-04 00:00:00  \n",
       "3       35512.0  2016-01-07 00:00:00  \n",
       "4      767580.0  2016-01-08 00:00:00  "
      ]
     },
     "execution_count": 6,
     "metadata": {},
     "output_type": "execute_result"
    }
   ],
   "source": [
    "sqlite_query = \"\"\"\n",
    "SELECT * \n",
    "from Policy_Table \n",
    "limit 5\n",
    "\"\"\"\n",
    "\n",
    "pd.read_sql(sqlite_query, conn)"
   ]
  },
  {
   "cell_type": "markdown",
   "metadata": {
    "id": "-OBxPUwy7N6w"
   },
   "source": [
    "The final table \"Fund_Table\" contains historic data on the Policy Value (Policy_Value_Snapshot). The Policy_Value_Snapshot represents the value of the policy and the Date column is the date at which that value was recorded. The value may have changed overtime due to changes in the fund price or quanity of units the policy was invested in. Please do not edit the below cell:"
   ]
  },
  {
   "cell_type": "code",
   "execution_count": 7,
   "metadata": {
    "colab": {
     "base_uri": "https://localhost:8080/",
     "height": 205
    },
    "id": "_UV6plyh7N6w",
    "outputId": "15cfe9f9-9056-496d-d72e-f71bcb6fe704"
   },
   "outputs": [
    {
     "data": {
      "text/html": [
       "<div>\n",
       "<style scoped>\n",
       "    .dataframe tbody tr th:only-of-type {\n",
       "        vertical-align: middle;\n",
       "    }\n",
       "\n",
       "    .dataframe tbody tr th {\n",
       "        vertical-align: top;\n",
       "    }\n",
       "\n",
       "    .dataframe thead th {\n",
       "        text-align: right;\n",
       "    }\n",
       "</style>\n",
       "<table border=\"1\" class=\"dataframe\">\n",
       "  <thead>\n",
       "    <tr style=\"text-align: right;\">\n",
       "      <th></th>\n",
       "      <th>index</th>\n",
       "      <th>Policy Number</th>\n",
       "      <th>Customer ID</th>\n",
       "      <th>Date</th>\n",
       "      <th>Product Category</th>\n",
       "      <th>Product Name</th>\n",
       "      <th>Policy_Value_Snapshot</th>\n",
       "    </tr>\n",
       "  </thead>\n",
       "  <tbody>\n",
       "    <tr>\n",
       "      <th>0</th>\n",
       "      <td>0</td>\n",
       "      <td>ANN1221</td>\n",
       "      <td>CO408564</td>\n",
       "      <td>2009-10-31 00:00:00</td>\n",
       "      <td>ANNUITY</td>\n",
       "      <td>STANDARD ANNUITY</td>\n",
       "      <td>None</td>\n",
       "    </tr>\n",
       "    <tr>\n",
       "      <th>1</th>\n",
       "      <td>1</td>\n",
       "      <td>ANN1221</td>\n",
       "      <td>CO408564</td>\n",
       "      <td>2009-11-30 00:00:00</td>\n",
       "      <td>ANNUITY</td>\n",
       "      <td>STANDARD ANNUITY</td>\n",
       "      <td>None</td>\n",
       "    </tr>\n",
       "    <tr>\n",
       "      <th>2</th>\n",
       "      <td>2</td>\n",
       "      <td>ANN1221</td>\n",
       "      <td>CO408564</td>\n",
       "      <td>2009-12-31 00:00:00</td>\n",
       "      <td>ANNUITY</td>\n",
       "      <td>STANDARD ANNUITY</td>\n",
       "      <td>None</td>\n",
       "    </tr>\n",
       "    <tr>\n",
       "      <th>3</th>\n",
       "      <td>3</td>\n",
       "      <td>ANN1221</td>\n",
       "      <td>CO408564</td>\n",
       "      <td>2010-01-31 00:00:00</td>\n",
       "      <td>ANNUITY</td>\n",
       "      <td>STANDARD ANNUITY</td>\n",
       "      <td>None</td>\n",
       "    </tr>\n",
       "    <tr>\n",
       "      <th>4</th>\n",
       "      <td>4</td>\n",
       "      <td>ANN1221</td>\n",
       "      <td>CO408564</td>\n",
       "      <td>2010-02-28 00:00:00</td>\n",
       "      <td>ANNUITY</td>\n",
       "      <td>STANDARD ANNUITY</td>\n",
       "      <td>None</td>\n",
       "    </tr>\n",
       "  </tbody>\n",
       "</table>\n",
       "</div>"
      ],
      "text/plain": [
       "   index Policy Number Customer ID                 Date Product Category  \\\n",
       "0      0       ANN1221    CO408564  2009-10-31 00:00:00          ANNUITY   \n",
       "1      1       ANN1221    CO408564  2009-11-30 00:00:00          ANNUITY   \n",
       "2      2       ANN1221    CO408564  2009-12-31 00:00:00          ANNUITY   \n",
       "3      3       ANN1221    CO408564  2010-01-31 00:00:00          ANNUITY   \n",
       "4      4       ANN1221    CO408564  2010-02-28 00:00:00          ANNUITY   \n",
       "\n",
       "       Product Name Policy_Value_Snapshot  \n",
       "0  STANDARD ANNUITY                  None  \n",
       "1  STANDARD ANNUITY                  None  \n",
       "2  STANDARD ANNUITY                  None  \n",
       "3  STANDARD ANNUITY                  None  \n",
       "4  STANDARD ANNUITY                  None  "
      ]
     },
     "execution_count": 7,
     "metadata": {},
     "output_type": "execute_result"
    }
   ],
   "source": [
    "sqlite_query = \"\"\"\n",
    "SELECT \n",
    "*\n",
    "from Fund_Table\n",
    "limit 5\n",
    "\n",
    "\"\"\"\n",
    "\n",
    "pd.read_sql(sqlite_query, conn)"
   ]
  },
  {
   "cell_type": "markdown",
   "metadata": {
    "id": "3FJEgNpg7N6x"
   },
   "source": [
    "If a question requires additional explanation for your answer, please add additional cells below the code. "
   ]
  },
  {
   "cell_type": "markdown",
   "metadata": {
    "id": "xo7J9eKK7N6x",
    "run_control": {
     "marked": true
    }
   },
   "source": [
    "## Q1: What is the current average policy value split by each product name? "
   ]
  },
  {
   "cell_type": "code",
   "execution_count": 48,
   "metadata": {
    "colab": {
     "base_uri": "https://localhost:8080/",
     "height": 331
    },
    "id": "sZk1QHaV7N6y",
    "outputId": "1d8fdb61-9ecc-44cd-f7e9-7af8d88d8e0b",
    "run_control": {
     "marked": true
    }
   },
   "outputs": [
    {
     "data": {
      "text/html": [
       "<div>\n",
       "<style scoped>\n",
       "    .dataframe tbody tr th:only-of-type {\n",
       "        vertical-align: middle;\n",
       "    }\n",
       "\n",
       "    .dataframe tbody tr th {\n",
       "        vertical-align: top;\n",
       "    }\n",
       "\n",
       "    .dataframe thead th {\n",
       "        text-align: right;\n",
       "    }\n",
       "</style>\n",
       "<table border=\"1\" class=\"dataframe\">\n",
       "  <thead>\n",
       "    <tr style=\"text-align: right;\">\n",
       "      <th></th>\n",
       "      <th>Product Name</th>\n",
       "      <th>avg_Policy_Value</th>\n",
       "    </tr>\n",
       "  </thead>\n",
       "  <tbody>\n",
       "    <tr>\n",
       "      <th>0</th>\n",
       "      <td>RETIREMENT ACCOUNT</td>\n",
       "      <td>504964.959960</td>\n",
       "    </tr>\n",
       "    <tr>\n",
       "      <th>1</th>\n",
       "      <td>FOCUSSED ISA</td>\n",
       "      <td>5746.341270</td>\n",
       "    </tr>\n",
       "    <tr>\n",
       "      <th>2</th>\n",
       "      <td>CORPORATE MEMBERSHIP</td>\n",
       "      <td>5697.285714</td>\n",
       "    </tr>\n",
       "    <tr>\n",
       "      <th>3</th>\n",
       "      <td>SIPP</td>\n",
       "      <td>5335.842466</td>\n",
       "    </tr>\n",
       "    <tr>\n",
       "      <th>4</th>\n",
       "      <td>NHS PENSION</td>\n",
       "      <td>5241.500000</td>\n",
       "    </tr>\n",
       "    <tr>\n",
       "      <th>5</th>\n",
       "      <td>PRUDENTIAL ISA</td>\n",
       "      <td>5161.135593</td>\n",
       "    </tr>\n",
       "    <tr>\n",
       "      <th>6</th>\n",
       "      <td>PRUDENTIAL INVESTMENT PLAN</td>\n",
       "      <td>5084.515152</td>\n",
       "    </tr>\n",
       "    <tr>\n",
       "      <th>7</th>\n",
       "      <td>PRU BOND</td>\n",
       "      <td>4516.389831</td>\n",
       "    </tr>\n",
       "    <tr>\n",
       "      <th>8</th>\n",
       "      <td>STANDARD ANNUITY</td>\n",
       "      <td>NaN</td>\n",
       "    </tr>\n",
       "  </tbody>\n",
       "</table>\n",
       "</div>"
      ],
      "text/plain": [
       "                 Product Name  avg_Policy_Value\n",
       "0          RETIREMENT ACCOUNT     504964.959960\n",
       "1                FOCUSSED ISA       5746.341270\n",
       "2        CORPORATE MEMBERSHIP       5697.285714\n",
       "3                        SIPP       5335.842466\n",
       "4                 NHS PENSION       5241.500000\n",
       "5              PRUDENTIAL ISA       5161.135593\n",
       "6  PRUDENTIAL INVESTMENT PLAN       5084.515152\n",
       "7                    PRU BOND       4516.389831\n",
       "8            STANDARD ANNUITY               NaN"
      ]
     },
     "execution_count": 48,
     "metadata": {},
     "output_type": "execute_result"
    }
   ],
   "source": [
    "sqlite_query = \"\"\"\n",
    "SELECT \"Product Name\", \n",
    "AVG (\"Policy Value\") as \"avg_Policy_Value\" \n",
    "from \"Policy_Table\" \n",
    "GROUP BY \"Product Name\"\n",
    "ORDER BY \"avg_Policy_Value\" DESC\n",
    "\n",
    "\"\"\"\n",
    "\n",
    "pd.read_sql(sqlite_query, conn)"
   ]
  },
  {
   "cell_type": "markdown",
   "metadata": {
    "id": "p2tpCueN7N6y",
    "run_control": {
     "marked": true
    }
   },
   "source": [
    "## Q2: How many customers opened a new policy in Q1 2017 who already had an existing pension product? "
   ]
  },
  {
   "cell_type": "code",
   "execution_count": 9,
   "metadata": {
    "colab": {
     "base_uri": "https://localhost:8080/",
     "height": 81
    },
    "id": "gMVMbSP87N6z",
    "outputId": "0e4bf693-763f-465e-f1f6-311ac9014f3a",
    "run_control": {
     "marked": true
    },
    "scrolled": true
   },
   "outputs": [
    {
     "data": {
      "text/html": [
       "<div>\n",
       "<style scoped>\n",
       "    .dataframe tbody tr th:only-of-type {\n",
       "        vertical-align: middle;\n",
       "    }\n",
       "\n",
       "    .dataframe tbody tr th {\n",
       "        vertical-align: top;\n",
       "    }\n",
       "\n",
       "    .dataframe thead th {\n",
       "        text-align: right;\n",
       "    }\n",
       "</style>\n",
       "<table border=\"1\" class=\"dataframe\">\n",
       "  <thead>\n",
       "    <tr style=\"text-align: right;\">\n",
       "      <th></th>\n",
       "      <th>Count of New Policy opened in Q1 2017</th>\n",
       "    </tr>\n",
       "  </thead>\n",
       "  <tbody>\n",
       "    <tr>\n",
       "      <th>0</th>\n",
       "      <td>342</td>\n",
       "    </tr>\n",
       "  </tbody>\n",
       "</table>\n",
       "</div>"
      ],
      "text/plain": [
       "   Count of New Policy opened in Q1 2017\n",
       "0                                    342"
      ]
     },
     "execution_count": 9,
     "metadata": {},
     "output_type": "execute_result"
    }
   ],
   "source": [
    "sqlite_query = \"\"\"\n",
    "SELECT COUNT (*) as \"Count of New Policy opened in Q1 2017\"\n",
    "from \"Fund_Table\"\n",
    "WHERE (\"Product Category\" = \"PENSION\") AND (\"Date\" BETWEEN \"2017-01-01\" and \"2017-03-31\")\n",
    "\n",
    "\"\"\"\n",
    "pd.read_sql(sqlite_query, conn)"
   ]
  },
  {
   "cell_type": "markdown",
   "metadata": {
    "id": "MlhRzMYW7N60",
    "run_control": {
     "marked": true
    }
   },
   "source": [
    "## Q3: What was the customer ID that had the biggest difference in policy value between its earliest and latest date (for any product) ?"
   ]
  },
  {
   "cell_type": "code",
   "execution_count": 10,
   "metadata": {
    "colab": {
     "base_uri": "https://localhost:8080/",
     "height": 81
    },
    "id": "-Ugfb8f87N60",
    "outputId": "af113c0a-6051-4ab9-fb5e-f7132febee59",
    "run_control": {
     "marked": true
    }
   },
   "outputs": [
    {
     "data": {
      "text/html": [
       "<div>\n",
       "<style scoped>\n",
       "    .dataframe tbody tr th:only-of-type {\n",
       "        vertical-align: middle;\n",
       "    }\n",
       "\n",
       "    .dataframe tbody tr th {\n",
       "        vertical-align: top;\n",
       "    }\n",
       "\n",
       "    .dataframe thead th {\n",
       "        text-align: right;\n",
       "    }\n",
       "</style>\n",
       "<table border=\"1\" class=\"dataframe\">\n",
       "  <thead>\n",
       "    <tr style=\"text-align: right;\">\n",
       "      <th></th>\n",
       "      <th>customer id</th>\n",
       "      <th>new_val</th>\n",
       "      <th>Policy Start Date</th>\n",
       "      <th>old_val</th>\n",
       "      <th>latest_date</th>\n",
       "      <th>Difference</th>\n",
       "    </tr>\n",
       "  </thead>\n",
       "  <tbody>\n",
       "    <tr>\n",
       "      <th>0</th>\n",
       "      <td>CO517259</td>\n",
       "      <td>997883.0</td>\n",
       "      <td>2016-09-14 00:00:00</td>\n",
       "      <td>1027.0</td>\n",
       "      <td>2019-01-31 00:00:00</td>\n",
       "      <td>996856.0</td>\n",
       "    </tr>\n",
       "  </tbody>\n",
       "</table>\n",
       "</div>"
      ],
      "text/plain": [
       "  customer id   new_val    Policy Start Date  old_val          latest_date  \\\n",
       "0    CO517259  997883.0  2016-09-14 00:00:00   1027.0  2019-01-31 00:00:00   \n",
       "\n",
       "   Difference  \n",
       "0    996856.0  "
      ]
     },
     "execution_count": 10,
     "metadata": {},
     "output_type": "execute_result"
    }
   ],
   "source": [
    "sqlite_query = \"\"\"\n",
    "SELECT *, Max(new_val-old_val) as Difference from (select pt.\"customer id\",pt.\"Policy Value\" as new_val, pt.\"Policy Start Date\", ft.\"Policy_Value_Snapshot\" as old_val, ft.\"Date\" as latest_date\n",
    "from Fund_Table as ft\n",
    "INNER JOIN Policy_Table as pt on pt.\"customer id\" = ft.\"customer id\"\n",
    "where pt.\"policy value\" is NOT NULL and ft.policy_value_snapshot is NOT NULL)\n",
    "\"\"\"\n",
    "\n",
    "pd.read_sql(sqlite_query, conn)"
   ]
  },
  {
   "cell_type": "markdown",
   "metadata": {
    "id": "-aw5TLpP7N61",
    "run_control": {
     "marked": true
    }
   },
   "source": [
    "# Python Test\n",
    "\n",
    "Same data, but now let's have some fun in python. Please do not use SQL for this part of the exercise. \n",
    "\n",
    "Feel free to add more cells of code or text"
   ]
  },
  {
   "cell_type": "code",
   "execution_count": 11,
   "metadata": {
    "id": "aaXI--qz7N62",
    "run_control": {
     "marked": true
    }
   },
   "outputs": [],
   "source": [
    "Customer_Table = pd.read_sql('SELECT * FROM Customer_Table', conn)\n",
    "Policy_Table = pd.read_sql('SELECT * FROM Policy_Table', conn)\n",
    "Fund_Table = pd.read_sql('SELECT * FROM Fund_Table', conn)"
   ]
  },
  {
   "cell_type": "code",
   "execution_count": 12,
   "metadata": {
    "id": "PRT-OBLAU8qY"
   },
   "outputs": [],
   "source": [
    "Customer_Table.drop(columns={'index'}, inplace=True)\n",
    "Policy_Table.drop(columns={'index'}, inplace=True)\n",
    "Fund_Table.drop(columns={'index'}, inplace=True)"
   ]
  },
  {
   "cell_type": "markdown",
   "metadata": {
    "id": "ts2ybj_w7N62",
    "run_control": {
     "marked": true
    }
   },
   "source": [
    "## Q4: Produce a list of customers which have an invalid email address. What do you notice about these customers? ##\n",
    "\n",
    "Feel free to use any packages of your choice"
   ]
  },
  {
   "cell_type": "code",
   "execution_count": 13,
   "metadata": {
    "colab": {
     "base_uri": "https://localhost:8080/",
     "height": 1000
    },
    "id": "SvkXZ6z67N62",
    "outputId": "99852b8f-c0f5-4b63-df9e-7f0fea607611",
    "run_control": {
     "marked": true
    }
   },
   "outputs": [
    {
     "data": {
      "text/html": [
       "<div>\n",
       "<style scoped>\n",
       "    .dataframe tbody tr th:only-of-type {\n",
       "        vertical-align: middle;\n",
       "    }\n",
       "\n",
       "    .dataframe tbody tr th {\n",
       "        vertical-align: top;\n",
       "    }\n",
       "\n",
       "    .dataframe thead th {\n",
       "        text-align: right;\n",
       "    }\n",
       "</style>\n",
       "<table border=\"1\" class=\"dataframe\">\n",
       "  <thead>\n",
       "    <tr style=\"text-align: right;\">\n",
       "      <th></th>\n",
       "      <th>Customer ID</th>\n",
       "      <th>Email</th>\n",
       "      <th>Gender</th>\n",
       "      <th>Age</th>\n",
       "      <th>Postcode</th>\n",
       "    </tr>\n",
       "  </thead>\n",
       "  <tbody>\n",
       "    <tr>\n",
       "      <th>1</th>\n",
       "      <td>CO314757</td>\n",
       "      <td>None</td>\n",
       "      <td>Female</td>\n",
       "      <td>90</td>\n",
       "      <td>None</td>\n",
       "    </tr>\n",
       "    <tr>\n",
       "      <th>2</th>\n",
       "      <td>CO720602</td>\n",
       "      <td>None</td>\n",
       "      <td>Female</td>\n",
       "      <td>90</td>\n",
       "      <td>None</td>\n",
       "    </tr>\n",
       "    <tr>\n",
       "      <th>3</th>\n",
       "      <td>CO34804</td>\n",
       "      <td>None</td>\n",
       "      <td>Female</td>\n",
       "      <td>90</td>\n",
       "      <td>1495-701</td>\n",
       "    </tr>\n",
       "    <tr>\n",
       "      <th>4</th>\n",
       "      <td>CO474411</td>\n",
       "      <td>None</td>\n",
       "      <td>Male</td>\n",
       "      <td>90</td>\n",
       "      <td>301288</td>\n",
       "    </tr>\n",
       "    <tr>\n",
       "      <th>5</th>\n",
       "      <td>CO777973</td>\n",
       "      <td>None</td>\n",
       "      <td>Female</td>\n",
       "      <td>90</td>\n",
       "      <td>None</td>\n",
       "    </tr>\n",
       "    <tr>\n",
       "      <th>6</th>\n",
       "      <td>CO311505</td>\n",
       "      <td>None</td>\n",
       "      <td>Male</td>\n",
       "      <td>90</td>\n",
       "      <td>None</td>\n",
       "    </tr>\n",
       "    <tr>\n",
       "      <th>7</th>\n",
       "      <td>CO474987</td>\n",
       "      <td>None</td>\n",
       "      <td>Female</td>\n",
       "      <td>89</td>\n",
       "      <td>None</td>\n",
       "    </tr>\n",
       "    <tr>\n",
       "      <th>8</th>\n",
       "      <td>CO496581</td>\n",
       "      <td>None</td>\n",
       "      <td>Female</td>\n",
       "      <td>89</td>\n",
       "      <td>36520-000</td>\n",
       "    </tr>\n",
       "    <tr>\n",
       "      <th>9</th>\n",
       "      <td>CO862381</td>\n",
       "      <td>None</td>\n",
       "      <td>Male</td>\n",
       "      <td>89</td>\n",
       "      <td>8301</td>\n",
       "    </tr>\n",
       "    <tr>\n",
       "      <th>22</th>\n",
       "      <td>CO401070</td>\n",
       "      <td>None</td>\n",
       "      <td>Female</td>\n",
       "      <td>88</td>\n",
       "      <td>None</td>\n",
       "    </tr>\n",
       "    <tr>\n",
       "      <th>28</th>\n",
       "      <td>CO131348</td>\n",
       "      <td>None</td>\n",
       "      <td>Male</td>\n",
       "      <td>88</td>\n",
       "      <td>None</td>\n",
       "    </tr>\n",
       "    <tr>\n",
       "      <th>29</th>\n",
       "      <td>CO494489</td>\n",
       "      <td>None</td>\n",
       "      <td>Female</td>\n",
       "      <td>88</td>\n",
       "      <td>None</td>\n",
       "    </tr>\n",
       "    <tr>\n",
       "      <th>30</th>\n",
       "      <td>CO340827</td>\n",
       "      <td>None</td>\n",
       "      <td>Male</td>\n",
       "      <td>88</td>\n",
       "      <td>6121</td>\n",
       "    </tr>\n",
       "    <tr>\n",
       "      <th>31</th>\n",
       "      <td>CO990552</td>\n",
       "      <td>None</td>\n",
       "      <td>Male</td>\n",
       "      <td>87</td>\n",
       "      <td>1618</td>\n",
       "    </tr>\n",
       "    <tr>\n",
       "      <th>32</th>\n",
       "      <td>CO623285</td>\n",
       "      <td>None</td>\n",
       "      <td>Female</td>\n",
       "      <td>87</td>\n",
       "      <td>None</td>\n",
       "    </tr>\n",
       "    <tr>\n",
       "      <th>33</th>\n",
       "      <td>CO276506</td>\n",
       "      <td>None</td>\n",
       "      <td>Female</td>\n",
       "      <td>87</td>\n",
       "      <td>None</td>\n",
       "    </tr>\n",
       "    <tr>\n",
       "      <th>34</th>\n",
       "      <td>CO531274</td>\n",
       "      <td>None</td>\n",
       "      <td>Female</td>\n",
       "      <td>87</td>\n",
       "      <td>None</td>\n",
       "    </tr>\n",
       "    <tr>\n",
       "      <th>35</th>\n",
       "      <td>CO486130</td>\n",
       "      <td>None</td>\n",
       "      <td>Male</td>\n",
       "      <td>87</td>\n",
       "      <td>649787</td>\n",
       "    </tr>\n",
       "    <tr>\n",
       "      <th>36</th>\n",
       "      <td>CO607185</td>\n",
       "      <td>None</td>\n",
       "      <td>Male</td>\n",
       "      <td>87</td>\n",
       "      <td>None</td>\n",
       "    </tr>\n",
       "    <tr>\n",
       "      <th>37</th>\n",
       "      <td>CO797073</td>\n",
       "      <td>None</td>\n",
       "      <td>Female</td>\n",
       "      <td>87</td>\n",
       "      <td>None</td>\n",
       "    </tr>\n",
       "    <tr>\n",
       "      <th>38</th>\n",
       "      <td>CO697092</td>\n",
       "      <td>None</td>\n",
       "      <td>Female</td>\n",
       "      <td>87</td>\n",
       "      <td>None</td>\n",
       "    </tr>\n",
       "    <tr>\n",
       "      <th>39</th>\n",
       "      <td>CO462135</td>\n",
       "      <td>None</td>\n",
       "      <td>Male</td>\n",
       "      <td>87</td>\n",
       "      <td>None</td>\n",
       "    </tr>\n",
       "    <tr>\n",
       "      <th>40</th>\n",
       "      <td>CO636054</td>\n",
       "      <td>None</td>\n",
       "      <td>Male</td>\n",
       "      <td>87</td>\n",
       "      <td>75706 CEDEX 13</td>\n",
       "    </tr>\n",
       "    <tr>\n",
       "      <th>41</th>\n",
       "      <td>CO28776</td>\n",
       "      <td>None</td>\n",
       "      <td>Male</td>\n",
       "      <td>87</td>\n",
       "      <td>7019</td>\n",
       "    </tr>\n",
       "    <tr>\n",
       "      <th>49</th>\n",
       "      <td>CO259564</td>\n",
       "      <td>None</td>\n",
       "      <td>Male</td>\n",
       "      <td>87</td>\n",
       "      <td>None</td>\n",
       "    </tr>\n",
       "    <tr>\n",
       "      <th>65</th>\n",
       "      <td>CO377225</td>\n",
       "      <td>None</td>\n",
       "      <td>Female</td>\n",
       "      <td>85</td>\n",
       "      <td>70826</td>\n",
       "    </tr>\n",
       "    <tr>\n",
       "      <th>66</th>\n",
       "      <td>CO343669</td>\n",
       "      <td>None</td>\n",
       "      <td>Female</td>\n",
       "      <td>85</td>\n",
       "      <td>None</td>\n",
       "    </tr>\n",
       "    <tr>\n",
       "      <th>67</th>\n",
       "      <td>CO76470</td>\n",
       "      <td>None</td>\n",
       "      <td>Male</td>\n",
       "      <td>85</td>\n",
       "      <td>29952</td>\n",
       "    </tr>\n",
       "    <tr>\n",
       "      <th>68</th>\n",
       "      <td>CO997036</td>\n",
       "      <td>None</td>\n",
       "      <td>Male</td>\n",
       "      <td>85</td>\n",
       "      <td>None</td>\n",
       "    </tr>\n",
       "    <tr>\n",
       "      <th>69</th>\n",
       "      <td>CO878780</td>\n",
       "      <td>None</td>\n",
       "      <td>Female</td>\n",
       "      <td>85</td>\n",
       "      <td>None</td>\n",
       "    </tr>\n",
       "    <tr>\n",
       "      <th>70</th>\n",
       "      <td>CO714161</td>\n",
       "      <td>None</td>\n",
       "      <td>Male</td>\n",
       "      <td>85</td>\n",
       "      <td>None</td>\n",
       "    </tr>\n",
       "    <tr>\n",
       "      <th>71</th>\n",
       "      <td>CO46570</td>\n",
       "      <td>None</td>\n",
       "      <td>Female</td>\n",
       "      <td>85</td>\n",
       "      <td>None</td>\n",
       "    </tr>\n",
       "    <tr>\n",
       "      <th>72</th>\n",
       "      <td>CO34681</td>\n",
       "      <td>None</td>\n",
       "      <td>Male</td>\n",
       "      <td>85</td>\n",
       "      <td>None</td>\n",
       "    </tr>\n",
       "    <tr>\n",
       "      <th>73</th>\n",
       "      <td>CO521545</td>\n",
       "      <td>None</td>\n",
       "      <td>Male</td>\n",
       "      <td>85</td>\n",
       "      <td>4950-070</td>\n",
       "    </tr>\n",
       "    <tr>\n",
       "      <th>74</th>\n",
       "      <td>CO823952</td>\n",
       "      <td>None</td>\n",
       "      <td>Male</td>\n",
       "      <td>85</td>\n",
       "      <td>None</td>\n",
       "    </tr>\n",
       "    <tr>\n",
       "      <th>75</th>\n",
       "      <td>CO478692</td>\n",
       "      <td>None</td>\n",
       "      <td>Male</td>\n",
       "      <td>85</td>\n",
       "      <td>2432</td>\n",
       "    </tr>\n",
       "    <tr>\n",
       "      <th>76</th>\n",
       "      <td>CO360302</td>\n",
       "      <td>None</td>\n",
       "      <td>Female</td>\n",
       "      <td>84</td>\n",
       "      <td>2980</td>\n",
       "    </tr>\n",
       "    <tr>\n",
       "      <th>121</th>\n",
       "      <td>CO609712</td>\n",
       "      <td>NOEMAIL</td>\n",
       "      <td>Male</td>\n",
       "      <td>81</td>\n",
       "      <td>None</td>\n",
       "    </tr>\n",
       "    <tr>\n",
       "      <th>174</th>\n",
       "      <td>CO668361</td>\n",
       "      <td>None</td>\n",
       "      <td>Male</td>\n",
       "      <td>76</td>\n",
       "      <td>None</td>\n",
       "    </tr>\n",
       "    <tr>\n",
       "      <th>188</th>\n",
       "      <td>CO321339</td>\n",
       "      <td>None</td>\n",
       "      <td>Female</td>\n",
       "      <td>75</td>\n",
       "      <td>None</td>\n",
       "    </tr>\n",
       "    <tr>\n",
       "      <th>189</th>\n",
       "      <td>CO424141</td>\n",
       "      <td>None</td>\n",
       "      <td>Male</td>\n",
       "      <td>75</td>\n",
       "      <td>None</td>\n",
       "    </tr>\n",
       "    <tr>\n",
       "      <th>218</th>\n",
       "      <td>CO71578</td>\n",
       "      <td>TGADDIEHB@TOPSY</td>\n",
       "      <td>Female</td>\n",
       "      <td>74</td>\n",
       "      <td>None</td>\n",
       "    </tr>\n",
       "    <tr>\n",
       "      <th>219</th>\n",
       "      <td>CO545536</td>\n",
       "      <td>VPEGGSK3@@@SPRINGER.COM</td>\n",
       "      <td>Male</td>\n",
       "      <td>74</td>\n",
       "      <td>46100-000</td>\n",
       "    </tr>\n",
       "    <tr>\n",
       "      <th>229</th>\n",
       "      <td>CO660405</td>\n",
       "      <td>None</td>\n",
       "      <td>Male</td>\n",
       "      <td>73</td>\n",
       "      <td>MD-6227</td>\n",
       "    </tr>\n",
       "    <tr>\n",
       "      <th>249</th>\n",
       "      <td>CO186677</td>\n",
       "      <td>None</td>\n",
       "      <td>Male</td>\n",
       "      <td>71</td>\n",
       "      <td>None</td>\n",
       "    </tr>\n",
       "    <tr>\n",
       "      <th>337</th>\n",
       "      <td>CO795420</td>\n",
       "      <td>.</td>\n",
       "      <td>Female</td>\n",
       "      <td>68</td>\n",
       "      <td>680011</td>\n",
       "    </tr>\n",
       "    <tr>\n",
       "      <th>367</th>\n",
       "      <td>CO825106</td>\n",
       "      <td>None</td>\n",
       "      <td>Female</td>\n",
       "      <td>65</td>\n",
       "      <td>59-225</td>\n",
       "    </tr>\n",
       "    <tr>\n",
       "      <th>368</th>\n",
       "      <td>CO285665</td>\n",
       "      <td>None</td>\n",
       "      <td>Male</td>\n",
       "      <td>65</td>\n",
       "      <td>None</td>\n",
       "    </tr>\n",
       "    <tr>\n",
       "      <th>491</th>\n",
       "      <td>CO155821</td>\n",
       "      <td>None</td>\n",
       "      <td>Male</td>\n",
       "      <td>64</td>\n",
       "      <td>521 96</td>\n",
       "    </tr>\n",
       "    <tr>\n",
       "      <th>492</th>\n",
       "      <td>CO20742</td>\n",
       "      <td>None</td>\n",
       "      <td>Female</td>\n",
       "      <td>64</td>\n",
       "      <td>46240</td>\n",
       "    </tr>\n",
       "    <tr>\n",
       "      <th>564</th>\n",
       "      <td>CO177172</td>\n",
       "      <td>None</td>\n",
       "      <td>Male</td>\n",
       "      <td>62</td>\n",
       "      <td>None</td>\n",
       "    </tr>\n",
       "    <tr>\n",
       "      <th>973</th>\n",
       "      <td>CO922481</td>\n",
       "      <td>CUSTOMER TO FOLLOW UP</td>\n",
       "      <td>Male</td>\n",
       "      <td>33</td>\n",
       "      <td>8340</td>\n",
       "    </tr>\n",
       "  </tbody>\n",
       "</table>\n",
       "</div>"
      ],
      "text/plain": [
       "    Customer ID                    Email  Gender  Age        Postcode\n",
       "1      CO314757                     None  Female   90            None\n",
       "2      CO720602                     None  Female   90            None\n",
       "3       CO34804                     None  Female   90        1495-701\n",
       "4      CO474411                     None    Male   90          301288\n",
       "5      CO777973                     None  Female   90            None\n",
       "6      CO311505                     None    Male   90            None\n",
       "7      CO474987                     None  Female   89            None\n",
       "8      CO496581                     None  Female   89       36520-000\n",
       "9      CO862381                     None    Male   89            8301\n",
       "22     CO401070                     None  Female   88            None\n",
       "28     CO131348                     None    Male   88            None\n",
       "29     CO494489                     None  Female   88            None\n",
       "30     CO340827                     None    Male   88            6121\n",
       "31     CO990552                     None    Male   87            1618\n",
       "32     CO623285                     None  Female   87            None\n",
       "33     CO276506                     None  Female   87            None\n",
       "34     CO531274                     None  Female   87            None\n",
       "35     CO486130                     None    Male   87          649787\n",
       "36     CO607185                     None    Male   87            None\n",
       "37     CO797073                     None  Female   87            None\n",
       "38     CO697092                     None  Female   87            None\n",
       "39     CO462135                     None    Male   87            None\n",
       "40     CO636054                     None    Male   87  75706 CEDEX 13\n",
       "41      CO28776                     None    Male   87            7019\n",
       "49     CO259564                     None    Male   87            None\n",
       "65     CO377225                     None  Female   85           70826\n",
       "66     CO343669                     None  Female   85            None\n",
       "67      CO76470                     None    Male   85           29952\n",
       "68     CO997036                     None    Male   85            None\n",
       "69     CO878780                     None  Female   85            None\n",
       "70     CO714161                     None    Male   85            None\n",
       "71      CO46570                     None  Female   85            None\n",
       "72      CO34681                     None    Male   85            None\n",
       "73     CO521545                     None    Male   85        4950-070\n",
       "74     CO823952                     None    Male   85            None\n",
       "75     CO478692                     None    Male   85            2432\n",
       "76     CO360302                     None  Female   84            2980\n",
       "121    CO609712                  NOEMAIL    Male   81            None\n",
       "174    CO668361                     None    Male   76            None\n",
       "188    CO321339                     None  Female   75            None\n",
       "189    CO424141                     None    Male   75            None\n",
       "218     CO71578          TGADDIEHB@TOPSY  Female   74            None\n",
       "219    CO545536  VPEGGSK3@@@SPRINGER.COM    Male   74       46100-000\n",
       "229    CO660405                     None    Male   73         MD-6227\n",
       "249    CO186677                     None    Male   71            None\n",
       "337    CO795420                        .  Female   68          680011\n",
       "367    CO825106                     None  Female   65          59-225\n",
       "368    CO285665                     None    Male   65            None\n",
       "491    CO155821                     None    Male   64          521 96\n",
       "492     CO20742                     None  Female   64           46240\n",
       "564    CO177172                     None    Male   62            None\n",
       "973    CO922481    CUSTOMER TO FOLLOW UP    Male   33            8340"
      ]
     },
     "execution_count": 13,
     "metadata": {},
     "output_type": "execute_result"
    }
   ],
   "source": [
    "#Insert your answer below: \n",
    "invalid_emailid_customers_df = pd.DataFrame()\n",
    "invalid_emailid_customers_df = Customer_Table[Customer_Table['Email'].str.contains(r'[^@]+@[^@]+\\.[^@]+')!=True].copy()\n",
    "invalid_emailid_customers_df\n",
    "\n",
    "# People with invalid email address belong to age group of 60+"
   ]
  },
  {
   "cell_type": "markdown",
   "metadata": {
    "id": "nwH78uPe7N63",
    "run_control": {
     "marked": true
    }
   },
   "source": [
    "## Q5: The Managing Director of Pru Wealth needs to see how policy value differs between other variables in the database (e.g. customer demographics) . They don't have time to read a report, so have asked for a cool visualisation that tells a story.\n",
    "\n",
    "Visualise something cool, tell us a story! You can use packages like Matplotlib, Seaborn or Plotly.Tell us why you chose to visualise the data in this way and how it can be used from a business perspective.\n"
   ]
  },
  {
   "cell_type": "code",
   "execution_count": 49,
   "metadata": {
    "id": "A8fIghry7N65"
   },
   "outputs": [],
   "source": [
    "sqlite_query = \"\"\"\n",
    "SELECT \"Product Name\", \n",
    "AVG (\"Policy Value\") as \"avg_Policy_Value\" \n",
    "from \"Policy_Table\" \n",
    "GROUP BY \"Product Name\"\n",
    "ORDER BY \"avg_Policy_Value\" DESC\n",
    "\n",
    "\"\"\"\n",
    "Policy_avg = pd.read_sql(sqlite_query, conn)\n",
    "Policy_avg.fillna(0,inplace=True)"
   ]
  },
  {
   "cell_type": "markdown",
   "metadata": {},
   "source": [
    "# Avg Policy Value for each Product Name"
   ]
  },
  {
   "cell_type": "code",
   "execution_count": 50,
   "metadata": {
    "colab": {
     "base_uri": "https://localhost:8080/",
     "height": 632
    },
    "id": "fVxBEM9B7N66",
    "outputId": "8daebd46-69e1-4d36-e010-83407265e8fd"
   },
   "outputs": [
    {
     "data": {
      "text/plain": [
       "<matplotlib.axes._subplots.AxesSubplot at 0xa588857a30>"
      ]
     },
     "execution_count": 50,
     "metadata": {},
     "output_type": "execute_result"
    },
    {
     "data": {
      "image/png": "[encoded data removed]",
      "text/plain": [
       "<Figure size 720x576 with 1 Axes>"
      ]
     },
     "metadata": {
      "needs_background": "light"
     },
     "output_type": "display_data"
    }
   ],
   "source": [
    "Policy_avg.plot(kind='bar', figsize=(10,8),x='Product Name',y='avg_Policy_Value',rot=50)"
   ]
  },
  {
   "cell_type": "markdown",
   "metadata": {},
   "source": [
    "# Avg Policy Value for each Product Category"
   ]
  },
  {
   "cell_type": "code",
   "execution_count": 51,
   "metadata": {
    "colab": {
     "base_uri": "https://localhost:8080/",
     "height": 558
    },
    "id": "al9-6ngs7N67",
    "outputId": "5bbef592-3d8c-4d10-8513-4de02cd25887"
   },
   "outputs": [
    {
     "data": {
      "text/plain": [
       "<matplotlib.axes._subplots.AxesSubplot at 0xa588449850>"
      ]
     },
     "execution_count": 51,
     "metadata": {},
     "output_type": "execute_result"
    },
    {
     "data": {
      "image/png": "[encoded data removed]",
      "text/plain": [
       "<Figure size 720x576 with 1 Axes>"
      ]
     },
     "metadata": {
      "needs_background": "light"
     },
     "output_type": "display_data"
    }
   ],
   "source": [
    "sqlite_query = \"\"\"\n",
    "SELECT \"Product Category\", \n",
    "AVG (\"Policy Value\") as \"avg_Policy_Value\" \n",
    "from \"Policy_Table\" \n",
    "GROUP BY \"Product Category\"\n",
    "ORDER BY \"avg_Policy_Value\" DESC\n",
    "\n",
    "\"\"\"\n",
    "\n",
    "Policy_avg_1 = pd.read_sql(sqlite_query, conn)\n",
    "Policy_avg_1.fillna(0,inplace=True)\n",
    "Policy_avg_1.plot(kind='bar', figsize=(10,8),x='Product Category',y='avg_Policy_Value',rot=50)"
   ]
  },
  {
   "cell_type": "code",
   "execution_count": 52,
   "metadata": {
    "colab": {
     "base_uri": "https://localhost:8080/",
     "height": 423
    },
    "id": "dFUmtRSa7N68",
    "outputId": "2ae7c03e-be60-4e4e-903a-d2075421093d"
   },
   "outputs": [
    {
     "data": {
      "text/html": [
       "<div>\n",
       "<style scoped>\n",
       "    .dataframe tbody tr th:only-of-type {\n",
       "        vertical-align: middle;\n",
       "    }\n",
       "\n",
       "    .dataframe tbody tr th {\n",
       "        vertical-align: top;\n",
       "    }\n",
       "\n",
       "    .dataframe thead th {\n",
       "        text-align: right;\n",
       "    }\n",
       "</style>\n",
       "<table border=\"1\" class=\"dataframe\">\n",
       "  <thead>\n",
       "    <tr style=\"text-align: right;\">\n",
       "      <th></th>\n",
       "      <th>Policy Number</th>\n",
       "      <th>Customer ID</th>\n",
       "      <th>Date</th>\n",
       "      <th>Product Category</th>\n",
       "      <th>Product Name</th>\n",
       "      <th>Policy_Value_Snapshot</th>\n",
       "    </tr>\n",
       "  </thead>\n",
       "  <tbody>\n",
       "    <tr>\n",
       "      <th>0</th>\n",
       "      <td>ANN1221</td>\n",
       "      <td>CO408564</td>\n",
       "      <td>2009-10-31 00:00:00</td>\n",
       "      <td>ANNUITY</td>\n",
       "      <td>STANDARD ANNUITY</td>\n",
       "      <td>NaN</td>\n",
       "    </tr>\n",
       "    <tr>\n",
       "      <th>1</th>\n",
       "      <td>ANN1221</td>\n",
       "      <td>CO408564</td>\n",
       "      <td>2009-11-30 00:00:00</td>\n",
       "      <td>ANNUITY</td>\n",
       "      <td>STANDARD ANNUITY</td>\n",
       "      <td>NaN</td>\n",
       "    </tr>\n",
       "    <tr>\n",
       "      <th>2</th>\n",
       "      <td>ANN1221</td>\n",
       "      <td>CO408564</td>\n",
       "      <td>2009-12-31 00:00:00</td>\n",
       "      <td>ANNUITY</td>\n",
       "      <td>STANDARD ANNUITY</td>\n",
       "      <td>NaN</td>\n",
       "    </tr>\n",
       "    <tr>\n",
       "      <th>3</th>\n",
       "      <td>ANN1221</td>\n",
       "      <td>CO408564</td>\n",
       "      <td>2010-01-31 00:00:00</td>\n",
       "      <td>ANNUITY</td>\n",
       "      <td>STANDARD ANNUITY</td>\n",
       "      <td>NaN</td>\n",
       "    </tr>\n",
       "    <tr>\n",
       "      <th>4</th>\n",
       "      <td>ANN1221</td>\n",
       "      <td>CO408564</td>\n",
       "      <td>2010-02-28 00:00:00</td>\n",
       "      <td>ANNUITY</td>\n",
       "      <td>STANDARD ANNUITY</td>\n",
       "      <td>NaN</td>\n",
       "    </tr>\n",
       "    <tr>\n",
       "      <th>...</th>\n",
       "      <td>...</td>\n",
       "      <td>...</td>\n",
       "      <td>...</td>\n",
       "      <td>...</td>\n",
       "      <td>...</td>\n",
       "      <td>...</td>\n",
       "    </tr>\n",
       "    <tr>\n",
       "      <th>72116</th>\n",
       "      <td>RET100998</td>\n",
       "      <td>CO213842</td>\n",
       "      <td>2018-11-30 00:00:00</td>\n",
       "      <td>RETIREMENT</td>\n",
       "      <td>RETIREMENT ACCOUNT</td>\n",
       "      <td>470727.090909</td>\n",
       "    </tr>\n",
       "    <tr>\n",
       "      <th>72117</th>\n",
       "      <td>RET100998</td>\n",
       "      <td>CO213842</td>\n",
       "      <td>2018-12-31 00:00:00</td>\n",
       "      <td>RETIREMENT</td>\n",
       "      <td>RETIREMENT ACCOUNT</td>\n",
       "      <td>520272.545455</td>\n",
       "    </tr>\n",
       "    <tr>\n",
       "      <th>72118</th>\n",
       "      <td>RET100998</td>\n",
       "      <td>CO213842</td>\n",
       "      <td>2019-01-31 00:00:00</td>\n",
       "      <td>RETIREMENT</td>\n",
       "      <td>RETIREMENT ACCOUNT</td>\n",
       "      <td>569818.000000</td>\n",
       "    </tr>\n",
       "    <tr>\n",
       "      <th>72119</th>\n",
       "      <td>RET100999</td>\n",
       "      <td>CO936943</td>\n",
       "      <td>2018-12-31 00:00:00</td>\n",
       "      <td>RETIREMENT</td>\n",
       "      <td>RETIREMENT ACCOUNT</td>\n",
       "      <td>490378.500000</td>\n",
       "    </tr>\n",
       "    <tr>\n",
       "      <th>72120</th>\n",
       "      <td>RET100999</td>\n",
       "      <td>CO936943</td>\n",
       "      <td>2019-01-31 00:00:00</td>\n",
       "      <td>RETIREMENT</td>\n",
       "      <td>RETIREMENT ACCOUNT</td>\n",
       "      <td>955939.000000</td>\n",
       "    </tr>\n",
       "  </tbody>\n",
       "</table>\n",
       "<p>72121 rows × 6 columns</p>\n",
       "</div>"
      ],
      "text/plain": [
       "      Policy Number Customer ID                 Date Product Category  \\\n",
       "0           ANN1221    CO408564  2009-10-31 00:00:00          ANNUITY   \n",
       "1           ANN1221    CO408564  2009-11-30 00:00:00          ANNUITY   \n",
       "2           ANN1221    CO408564  2009-12-31 00:00:00          ANNUITY   \n",
       "3           ANN1221    CO408564  2010-01-31 00:00:00          ANNUITY   \n",
       "4           ANN1221    CO408564  2010-02-28 00:00:00          ANNUITY   \n",
       "...             ...         ...                  ...              ...   \n",
       "72116     RET100998    CO213842  2018-11-30 00:00:00       RETIREMENT   \n",
       "72117     RET100998    CO213842  2018-12-31 00:00:00       RETIREMENT   \n",
       "72118     RET100998    CO213842  2019-01-31 00:00:00       RETIREMENT   \n",
       "72119     RET100999    CO936943  2018-12-31 00:00:00       RETIREMENT   \n",
       "72120     RET100999    CO936943  2019-01-31 00:00:00       RETIREMENT   \n",
       "\n",
       "             Product Name  Policy_Value_Snapshot  \n",
       "0        STANDARD ANNUITY                    NaN  \n",
       "1        STANDARD ANNUITY                    NaN  \n",
       "2        STANDARD ANNUITY                    NaN  \n",
       "3        STANDARD ANNUITY                    NaN  \n",
       "4        STANDARD ANNUITY                    NaN  \n",
       "...                   ...                    ...  \n",
       "72116  RETIREMENT ACCOUNT          470727.090909  \n",
       "72117  RETIREMENT ACCOUNT          520272.545455  \n",
       "72118  RETIREMENT ACCOUNT          569818.000000  \n",
       "72119  RETIREMENT ACCOUNT          490378.500000  \n",
       "72120  RETIREMENT ACCOUNT          955939.000000  \n",
       "\n",
       "[72121 rows x 6 columns]"
      ]
     },
     "execution_count": 52,
     "metadata": {},
     "output_type": "execute_result"
    }
   ],
   "source": [
    "Fund_Table_Year = Fund_Table.copy()\n",
    "Fund_Table_Year"
   ]
  },
  {
   "cell_type": "code",
   "execution_count": 53,
   "metadata": {
    "id": "AHPBR1l97N68"
   },
   "outputs": [],
   "source": [
    "Fund_Table_Year['year'] = pd.DatetimeIndex(Fund_Table_Year['Date']).year\n",
    "Fund_Table_Year['month'] = pd.DatetimeIndex(Fund_Table_Year['Date']).month"
   ]
  },
  {
   "cell_type": "code",
   "execution_count": 54,
   "metadata": {
    "colab": {
     "base_uri": "https://localhost:8080/",
     "height": 423
    },
    "id": "s9b77VGU7N68",
    "outputId": "16ad246e-51a9-4468-dfbf-ac94947e40c9"
   },
   "outputs": [
    {
     "data": {
      "text/html": [
       "<div>\n",
       "<style scoped>\n",
       "    .dataframe tbody tr th:only-of-type {\n",
       "        vertical-align: middle;\n",
       "    }\n",
       "\n",
       "    .dataframe tbody tr th {\n",
       "        vertical-align: top;\n",
       "    }\n",
       "\n",
       "    .dataframe thead th {\n",
       "        text-align: right;\n",
       "    }\n",
       "</style>\n",
       "<table border=\"1\" class=\"dataframe\">\n",
       "  <thead>\n",
       "    <tr style=\"text-align: right;\">\n",
       "      <th></th>\n",
       "      <th>Policy Number</th>\n",
       "      <th>Customer ID</th>\n",
       "      <th>Date</th>\n",
       "      <th>Product Category</th>\n",
       "      <th>Product Name</th>\n",
       "      <th>Policy_Value_Snapshot</th>\n",
       "      <th>year</th>\n",
       "      <th>month</th>\n",
       "    </tr>\n",
       "  </thead>\n",
       "  <tbody>\n",
       "    <tr>\n",
       "      <th>0</th>\n",
       "      <td>ANN1221</td>\n",
       "      <td>CO408564</td>\n",
       "      <td>2009-10-31 00:00:00</td>\n",
       "      <td>ANNUITY</td>\n",
       "      <td>STANDARD ANNUITY</td>\n",
       "      <td>NaN</td>\n",
       "      <td>2009</td>\n",
       "      <td>10</td>\n",
       "    </tr>\n",
       "    <tr>\n",
       "      <th>1</th>\n",
       "      <td>ANN1221</td>\n",
       "      <td>CO408564</td>\n",
       "      <td>2009-11-30 00:00:00</td>\n",
       "      <td>ANNUITY</td>\n",
       "      <td>STANDARD ANNUITY</td>\n",
       "      <td>NaN</td>\n",
       "      <td>2009</td>\n",
       "      <td>11</td>\n",
       "    </tr>\n",
       "    <tr>\n",
       "      <th>2</th>\n",
       "      <td>ANN1221</td>\n",
       "      <td>CO408564</td>\n",
       "      <td>2009-12-31 00:00:00</td>\n",
       "      <td>ANNUITY</td>\n",
       "      <td>STANDARD ANNUITY</td>\n",
       "      <td>NaN</td>\n",
       "      <td>2009</td>\n",
       "      <td>12</td>\n",
       "    </tr>\n",
       "    <tr>\n",
       "      <th>3</th>\n",
       "      <td>ANN1221</td>\n",
       "      <td>CO408564</td>\n",
       "      <td>2010-01-31 00:00:00</td>\n",
       "      <td>ANNUITY</td>\n",
       "      <td>STANDARD ANNUITY</td>\n",
       "      <td>NaN</td>\n",
       "      <td>2010</td>\n",
       "      <td>1</td>\n",
       "    </tr>\n",
       "    <tr>\n",
       "      <th>4</th>\n",
       "      <td>ANN1221</td>\n",
       "      <td>CO408564</td>\n",
       "      <td>2010-02-28 00:00:00</td>\n",
       "      <td>ANNUITY</td>\n",
       "      <td>STANDARD ANNUITY</td>\n",
       "      <td>NaN</td>\n",
       "      <td>2010</td>\n",
       "      <td>2</td>\n",
       "    </tr>\n",
       "    <tr>\n",
       "      <th>...</th>\n",
       "      <td>...</td>\n",
       "      <td>...</td>\n",
       "      <td>...</td>\n",
       "      <td>...</td>\n",
       "      <td>...</td>\n",
       "      <td>...</td>\n",
       "      <td>...</td>\n",
       "      <td>...</td>\n",
       "    </tr>\n",
       "    <tr>\n",
       "      <th>72116</th>\n",
       "      <td>RET100998</td>\n",
       "      <td>CO213842</td>\n",
       "      <td>2018-11-30 00:00:00</td>\n",
       "      <td>RETIREMENT</td>\n",
       "      <td>RETIREMENT ACCOUNT</td>\n",
       "      <td>470727.090909</td>\n",
       "      <td>2018</td>\n",
       "      <td>11</td>\n",
       "    </tr>\n",
       "    <tr>\n",
       "      <th>72117</th>\n",
       "      <td>RET100998</td>\n",
       "      <td>CO213842</td>\n",
       "      <td>2018-12-31 00:00:00</td>\n",
       "      <td>RETIREMENT</td>\n",
       "      <td>RETIREMENT ACCOUNT</td>\n",
       "      <td>520272.545455</td>\n",
       "      <td>2018</td>\n",
       "      <td>12</td>\n",
       "    </tr>\n",
       "    <tr>\n",
       "      <th>72118</th>\n",
       "      <td>RET100998</td>\n",
       "      <td>CO213842</td>\n",
       "      <td>2019-01-31 00:00:00</td>\n",
       "      <td>RETIREMENT</td>\n",
       "      <td>RETIREMENT ACCOUNT</td>\n",
       "      <td>569818.000000</td>\n",
       "      <td>2019</td>\n",
       "      <td>1</td>\n",
       "    </tr>\n",
       "    <tr>\n",
       "      <th>72119</th>\n",
       "      <td>RET100999</td>\n",
       "      <td>CO936943</td>\n",
       "      <td>2018-12-31 00:00:00</td>\n",
       "      <td>RETIREMENT</td>\n",
       "      <td>RETIREMENT ACCOUNT</td>\n",
       "      <td>490378.500000</td>\n",
       "      <td>2018</td>\n",
       "      <td>12</td>\n",
       "    </tr>\n",
       "    <tr>\n",
       "      <th>72120</th>\n",
       "      <td>RET100999</td>\n",
       "      <td>CO936943</td>\n",
       "      <td>2019-01-31 00:00:00</td>\n",
       "      <td>RETIREMENT</td>\n",
       "      <td>RETIREMENT ACCOUNT</td>\n",
       "      <td>955939.000000</td>\n",
       "      <td>2019</td>\n",
       "      <td>1</td>\n",
       "    </tr>\n",
       "  </tbody>\n",
       "</table>\n",
       "<p>72121 rows × 8 columns</p>\n",
       "</div>"
      ],
      "text/plain": [
       "      Policy Number Customer ID                 Date Product Category  \\\n",
       "0           ANN1221    CO408564  2009-10-31 00:00:00          ANNUITY   \n",
       "1           ANN1221    CO408564  2009-11-30 00:00:00          ANNUITY   \n",
       "2           ANN1221    CO408564  2009-12-31 00:00:00          ANNUITY   \n",
       "3           ANN1221    CO408564  2010-01-31 00:00:00          ANNUITY   \n",
       "4           ANN1221    CO408564  2010-02-28 00:00:00          ANNUITY   \n",
       "...             ...         ...                  ...              ...   \n",
       "72116     RET100998    CO213842  2018-11-30 00:00:00       RETIREMENT   \n",
       "72117     RET100998    CO213842  2018-12-31 00:00:00       RETIREMENT   \n",
       "72118     RET100998    CO213842  2019-01-31 00:00:00       RETIREMENT   \n",
       "72119     RET100999    CO936943  2018-12-31 00:00:00       RETIREMENT   \n",
       "72120     RET100999    CO936943  2019-01-31 00:00:00       RETIREMENT   \n",
       "\n",
       "             Product Name  Policy_Value_Snapshot  year  month  \n",
       "0        STANDARD ANNUITY                    NaN  2009     10  \n",
       "1        STANDARD ANNUITY                    NaN  2009     11  \n",
       "2        STANDARD ANNUITY                    NaN  2009     12  \n",
       "3        STANDARD ANNUITY                    NaN  2010      1  \n",
       "4        STANDARD ANNUITY                    NaN  2010      2  \n",
       "...                   ...                    ...   ...    ...  \n",
       "72116  RETIREMENT ACCOUNT          470727.090909  2018     11  \n",
       "72117  RETIREMENT ACCOUNT          520272.545455  2018     12  \n",
       "72118  RETIREMENT ACCOUNT          569818.000000  2019      1  \n",
       "72119  RETIREMENT ACCOUNT          490378.500000  2018     12  \n",
       "72120  RETIREMENT ACCOUNT          955939.000000  2019      1  \n",
       "\n",
       "[72121 rows x 8 columns]"
      ]
     },
     "execution_count": 54,
     "metadata": {},
     "output_type": "execute_result"
    }
   ],
   "source": [
    "Fund_Table_Year"
   ]
  },
  {
   "cell_type": "code",
   "execution_count": 55,
   "metadata": {
    "colab": {
     "base_uri": "https://localhost:8080/",
     "height": 425
    },
    "id": "WonWQfNy7N69",
    "outputId": "8128d167-5efd-44a0-fbe0-fde705038c7f"
   },
   "outputs": [
    {
     "data": {
      "text/html": [
       "<div>\n",
       "<style scoped>\n",
       "    .dataframe tbody tr th:only-of-type {\n",
       "        vertical-align: middle;\n",
       "    }\n",
       "\n",
       "    .dataframe tbody tr th {\n",
       "        vertical-align: top;\n",
       "    }\n",
       "\n",
       "    .dataframe thead th {\n",
       "        text-align: right;\n",
       "    }\n",
       "</style>\n",
       "<table border=\"1\" class=\"dataframe\">\n",
       "  <thead>\n",
       "    <tr style=\"text-align: right;\">\n",
       "      <th></th>\n",
       "      <th>Policy_Value_Snapshot</th>\n",
       "      <th>month</th>\n",
       "    </tr>\n",
       "    <tr>\n",
       "      <th>year</th>\n",
       "      <th></th>\n",
       "      <th></th>\n",
       "    </tr>\n",
       "  </thead>\n",
       "  <tbody>\n",
       "    <tr>\n",
       "      <th>2009</th>\n",
       "      <td>4.919777e+06</td>\n",
       "      <td>2345</td>\n",
       "    </tr>\n",
       "    <tr>\n",
       "      <th>2010</th>\n",
       "      <td>3.052222e+07</td>\n",
       "      <td>11581</td>\n",
       "    </tr>\n",
       "    <tr>\n",
       "      <th>2011</th>\n",
       "      <td>5.115695e+07</td>\n",
       "      <td>20045</td>\n",
       "    </tr>\n",
       "    <tr>\n",
       "      <th>2012</th>\n",
       "      <td>7.139402e+07</td>\n",
       "      <td>28806</td>\n",
       "    </tr>\n",
       "    <tr>\n",
       "      <th>2013</th>\n",
       "      <td>9.024006e+07</td>\n",
       "      <td>38097</td>\n",
       "    </tr>\n",
       "    <tr>\n",
       "      <th>2014</th>\n",
       "      <td>1.046847e+08</td>\n",
       "      <td>47456</td>\n",
       "    </tr>\n",
       "    <tr>\n",
       "      <th>2015</th>\n",
       "      <td>9.796570e+07</td>\n",
       "      <td>49608</td>\n",
       "    </tr>\n",
       "    <tr>\n",
       "      <th>2016</th>\n",
       "      <td>2.583768e+08</td>\n",
       "      <td>66561</td>\n",
       "    </tr>\n",
       "    <tr>\n",
       "      <th>2017</th>\n",
       "      <td>1.155131e+09</td>\n",
       "      <td>93427</td>\n",
       "    </tr>\n",
       "    <tr>\n",
       "      <th>2018</th>\n",
       "      <td>3.550999e+09</td>\n",
       "      <td>119777</td>\n",
       "    </tr>\n",
       "    <tr>\n",
       "      <th>2019</th>\n",
       "      <td>5.071780e+08</td>\n",
       "      <td>1635</td>\n",
       "    </tr>\n",
       "  </tbody>\n",
       "</table>\n",
       "</div>"
      ],
      "text/plain": [
       "      Policy_Value_Snapshot   month\n",
       "year                               \n",
       "2009           4.919777e+06    2345\n",
       "2010           3.052222e+07   11581\n",
       "2011           5.115695e+07   20045\n",
       "2012           7.139402e+07   28806\n",
       "2013           9.024006e+07   38097\n",
       "2014           1.046847e+08   47456\n",
       "2015           9.796570e+07   49608\n",
       "2016           2.583768e+08   66561\n",
       "2017           1.155131e+09   93427\n",
       "2018           3.550999e+09  119777\n",
       "2019           5.071780e+08    1635"
      ]
     },
     "execution_count": 55,
     "metadata": {},
     "output_type": "execute_result"
    }
   ],
   "source": [
    "x1 = Fund_Table_Year.groupby('year').sum()\n",
    "x1"
   ]
  },
  {
   "cell_type": "code",
   "execution_count": 56,
   "metadata": {
    "id": "huaNudaz7N69"
   },
   "outputs": [],
   "source": [
    "x1 = x1.drop(['month'], axis = 1)"
   ]
  },
  {
   "cell_type": "markdown",
   "metadata": {},
   "source": [
    "# Total Sales Over the Years"
   ]
  },
  {
   "cell_type": "code",
   "execution_count": 57,
   "metadata": {
    "colab": {
     "base_uri": "https://localhost:8080/",
     "height": 328
    },
    "id": "AuDyL40E7N6-",
    "outputId": "3b863e7f-e3b7-408d-a503-984a4e928036"
   },
   "outputs": [
    {
     "data": {
      "text/plain": [
       "Text(0.5, 1.0, 'Total Sales Over the Years')"
      ]
     },
     "execution_count": 57,
     "metadata": {},
     "output_type": "execute_result"
    },
    {
     "data": {
      "image/png": "[encoded data removed]",
      "text/plain": [
       "<Figure size 432x288 with 1 Axes>"
      ]
     },
     "metadata": {
      "needs_background": "light"
     },
     "output_type": "display_data"
    }
   ],
   "source": [
    "x1.plot(kind='bar',rot=50)\n",
    "plt.xlabel(\"Years\")\n",
    "plt.ylabel(\"Policy_Value_Snapshot\")\n",
    "plt.title(\"Total Sales Over the Years\")"
   ]
  },
  {
   "cell_type": "code",
   "execution_count": 58,
   "metadata": {
    "colab": {
     "base_uri": "https://localhost:8080/"
    },
    "id": "f4eexJky7N6-",
    "outputId": "3224a686-27c9-4ab3-f098-011b1abbe85b"
   },
   "outputs": [
    {
     "data": {
      "text/plain": [
       "<pandas.core.groupby.generic.DataFrameGroupBy object at 0x000000A5896E5850>"
      ]
     },
     "execution_count": 58,
     "metadata": {},
     "output_type": "execute_result"
    }
   ],
   "source": [
    "Fund_Table_Year.groupby('year')"
   ]
  },
  {
   "cell_type": "code",
   "execution_count": 59,
   "metadata": {
    "id": "CVJNnVe17N6-"
   },
   "outputs": [],
   "source": [
    "fund_viz_df = Fund_Table.copy()\n",
    "fund_viz_df['Year'] = pd.DatetimeIndex(fund_viz_df['Date']).year\n",
    "fund_viz_df['Month'] = pd.DatetimeIndex(fund_viz_df['Date']).month\n",
    "fund_viz_df = fund_viz_df.groupby(['Year', 'Product Category']).agg({'Policy_Value_Snapshot': [ 'sum']}).reset_index()"
   ]
  },
  {
   "cell_type": "code",
   "execution_count": 60,
   "metadata": {
    "colab": {
     "base_uri": "https://localhost:8080/",
     "height": 1000
    },
    "id": "WstbBkUB7N6-",
    "outputId": "6ede9e44-a94c-4194-d92f-7ef2088a9852"
   },
   "outputs": [
    {
     "data": {
      "text/html": [
       "<div>\n",
       "<style scoped>\n",
       "    .dataframe tbody tr th:only-of-type {\n",
       "        vertical-align: middle;\n",
       "    }\n",
       "\n",
       "    .dataframe tbody tr th {\n",
       "        vertical-align: top;\n",
       "    }\n",
       "\n",
       "    .dataframe thead tr th {\n",
       "        text-align: left;\n",
       "    }\n",
       "</style>\n",
       "<table border=\"1\" class=\"dataframe\">\n",
       "  <thead>\n",
       "    <tr>\n",
       "      <th></th>\n",
       "      <th>Year</th>\n",
       "      <th>Product Category</th>\n",
       "      <th>Policy_Value_Snapshot</th>\n",
       "    </tr>\n",
       "    <tr>\n",
       "      <th></th>\n",
       "      <th></th>\n",
       "      <th></th>\n",
       "      <th>sum</th>\n",
       "    </tr>\n",
       "  </thead>\n",
       "  <tbody>\n",
       "    <tr>\n",
       "      <th>0</th>\n",
       "      <td>2009</td>\n",
       "      <td>ANNUITY</td>\n",
       "      <td>0.000000e+00</td>\n",
       "    </tr>\n",
       "    <tr>\n",
       "      <th>1</th>\n",
       "      <td>2009</td>\n",
       "      <td>BOND</td>\n",
       "      <td>1.361225e+06</td>\n",
       "    </tr>\n",
       "    <tr>\n",
       "      <th>2</th>\n",
       "      <td>2009</td>\n",
       "      <td>ISA</td>\n",
       "      <td>2.533104e+06</td>\n",
       "    </tr>\n",
       "    <tr>\n",
       "      <th>3</th>\n",
       "      <td>2009</td>\n",
       "      <td>PENSION</td>\n",
       "      <td>1.025448e+06</td>\n",
       "    </tr>\n",
       "    <tr>\n",
       "      <th>4</th>\n",
       "      <td>2010</td>\n",
       "      <td>ANNUITY</td>\n",
       "      <td>0.000000e+00</td>\n",
       "    </tr>\n",
       "    <tr>\n",
       "      <th>5</th>\n",
       "      <td>2010</td>\n",
       "      <td>BOND</td>\n",
       "      <td>7.926164e+06</td>\n",
       "    </tr>\n",
       "    <tr>\n",
       "      <th>6</th>\n",
       "      <td>2010</td>\n",
       "      <td>ISA</td>\n",
       "      <td>1.315401e+07</td>\n",
       "    </tr>\n",
       "    <tr>\n",
       "      <th>7</th>\n",
       "      <td>2010</td>\n",
       "      <td>PENSION</td>\n",
       "      <td>9.442044e+06</td>\n",
       "    </tr>\n",
       "    <tr>\n",
       "      <th>8</th>\n",
       "      <td>2011</td>\n",
       "      <td>ANNUITY</td>\n",
       "      <td>0.000000e+00</td>\n",
       "    </tr>\n",
       "    <tr>\n",
       "      <th>9</th>\n",
       "      <td>2011</td>\n",
       "      <td>BOND</td>\n",
       "      <td>1.491176e+07</td>\n",
       "    </tr>\n",
       "    <tr>\n",
       "      <th>10</th>\n",
       "      <td>2011</td>\n",
       "      <td>ISA</td>\n",
       "      <td>1.979095e+07</td>\n",
       "    </tr>\n",
       "    <tr>\n",
       "      <th>11</th>\n",
       "      <td>2011</td>\n",
       "      <td>PENSION</td>\n",
       "      <td>1.645424e+07</td>\n",
       "    </tr>\n",
       "    <tr>\n",
       "      <th>12</th>\n",
       "      <td>2012</td>\n",
       "      <td>ANNUITY</td>\n",
       "      <td>0.000000e+00</td>\n",
       "    </tr>\n",
       "    <tr>\n",
       "      <th>13</th>\n",
       "      <td>2012</td>\n",
       "      <td>BOND</td>\n",
       "      <td>2.165176e+07</td>\n",
       "    </tr>\n",
       "    <tr>\n",
       "      <th>14</th>\n",
       "      <td>2012</td>\n",
       "      <td>ISA</td>\n",
       "      <td>2.598121e+07</td>\n",
       "    </tr>\n",
       "    <tr>\n",
       "      <th>15</th>\n",
       "      <td>2012</td>\n",
       "      <td>PENSION</td>\n",
       "      <td>2.376105e+07</td>\n",
       "    </tr>\n",
       "    <tr>\n",
       "      <th>16</th>\n",
       "      <td>2013</td>\n",
       "      <td>ANNUITY</td>\n",
       "      <td>0.000000e+00</td>\n",
       "    </tr>\n",
       "    <tr>\n",
       "      <th>17</th>\n",
       "      <td>2013</td>\n",
       "      <td>BOND</td>\n",
       "      <td>2.786883e+07</td>\n",
       "    </tr>\n",
       "    <tr>\n",
       "      <th>18</th>\n",
       "      <td>2013</td>\n",
       "      <td>ISA</td>\n",
       "      <td>3.236500e+07</td>\n",
       "    </tr>\n",
       "    <tr>\n",
       "      <th>19</th>\n",
       "      <td>2013</td>\n",
       "      <td>PENSION</td>\n",
       "      <td>3.000624e+07</td>\n",
       "    </tr>\n",
       "    <tr>\n",
       "      <th>20</th>\n",
       "      <td>2014</td>\n",
       "      <td>ANNUITY</td>\n",
       "      <td>0.000000e+00</td>\n",
       "    </tr>\n",
       "    <tr>\n",
       "      <th>21</th>\n",
       "      <td>2014</td>\n",
       "      <td>BOND</td>\n",
       "      <td>3.173861e+07</td>\n",
       "    </tr>\n",
       "    <tr>\n",
       "      <th>22</th>\n",
       "      <td>2014</td>\n",
       "      <td>ISA</td>\n",
       "      <td>3.824853e+07</td>\n",
       "    </tr>\n",
       "    <tr>\n",
       "      <th>23</th>\n",
       "      <td>2014</td>\n",
       "      <td>PENSION</td>\n",
       "      <td>3.469751e+07</td>\n",
       "    </tr>\n",
       "    <tr>\n",
       "      <th>24</th>\n",
       "      <td>2015</td>\n",
       "      <td>ANNUITY</td>\n",
       "      <td>0.000000e+00</td>\n",
       "    </tr>\n",
       "    <tr>\n",
       "      <th>25</th>\n",
       "      <td>2015</td>\n",
       "      <td>BOND</td>\n",
       "      <td>2.993973e+07</td>\n",
       "    </tr>\n",
       "    <tr>\n",
       "      <th>26</th>\n",
       "      <td>2015</td>\n",
       "      <td>ISA</td>\n",
       "      <td>3.526022e+07</td>\n",
       "    </tr>\n",
       "    <tr>\n",
       "      <th>27</th>\n",
       "      <td>2015</td>\n",
       "      <td>PENSION</td>\n",
       "      <td>3.276575e+07</td>\n",
       "    </tr>\n",
       "    <tr>\n",
       "      <th>28</th>\n",
       "      <td>2016</td>\n",
       "      <td>ANNUITY</td>\n",
       "      <td>0.000000e+00</td>\n",
       "    </tr>\n",
       "    <tr>\n",
       "      <th>29</th>\n",
       "      <td>2016</td>\n",
       "      <td>BOND</td>\n",
       "      <td>2.409454e+07</td>\n",
       "    </tr>\n",
       "    <tr>\n",
       "      <th>30</th>\n",
       "      <td>2016</td>\n",
       "      <td>ISA</td>\n",
       "      <td>2.878935e+07</td>\n",
       "    </tr>\n",
       "    <tr>\n",
       "      <th>31</th>\n",
       "      <td>2016</td>\n",
       "      <td>PENSION</td>\n",
       "      <td>2.663021e+07</td>\n",
       "    </tr>\n",
       "    <tr>\n",
       "      <th>32</th>\n",
       "      <td>2016</td>\n",
       "      <td>RETIREMENT</td>\n",
       "      <td>1.788627e+08</td>\n",
       "    </tr>\n",
       "    <tr>\n",
       "      <th>33</th>\n",
       "      <td>2017</td>\n",
       "      <td>ANNUITY</td>\n",
       "      <td>0.000000e+00</td>\n",
       "    </tr>\n",
       "    <tr>\n",
       "      <th>34</th>\n",
       "      <td>2017</td>\n",
       "      <td>BOND</td>\n",
       "      <td>1.824934e+07</td>\n",
       "    </tr>\n",
       "    <tr>\n",
       "      <th>35</th>\n",
       "      <td>2017</td>\n",
       "      <td>ISA</td>\n",
       "      <td>2.231848e+07</td>\n",
       "    </tr>\n",
       "    <tr>\n",
       "      <th>36</th>\n",
       "      <td>2017</td>\n",
       "      <td>PENSION</td>\n",
       "      <td>2.049467e+07</td>\n",
       "    </tr>\n",
       "    <tr>\n",
       "      <th>37</th>\n",
       "      <td>2017</td>\n",
       "      <td>RETIREMENT</td>\n",
       "      <td>1.094068e+09</td>\n",
       "    </tr>\n",
       "    <tr>\n",
       "      <th>38</th>\n",
       "      <td>2018</td>\n",
       "      <td>ANNUITY</td>\n",
       "      <td>0.000000e+00</td>\n",
       "    </tr>\n",
       "    <tr>\n",
       "      <th>39</th>\n",
       "      <td>2018</td>\n",
       "      <td>BOND</td>\n",
       "      <td>1.240415e+07</td>\n",
       "    </tr>\n",
       "    <tr>\n",
       "      <th>40</th>\n",
       "      <td>2018</td>\n",
       "      <td>ISA</td>\n",
       "      <td>1.584761e+07</td>\n",
       "    </tr>\n",
       "    <tr>\n",
       "      <th>41</th>\n",
       "      <td>2018</td>\n",
       "      <td>PENSION</td>\n",
       "      <td>1.435912e+07</td>\n",
       "    </tr>\n",
       "    <tr>\n",
       "      <th>42</th>\n",
       "      <td>2018</td>\n",
       "      <td>RETIREMENT</td>\n",
       "      <td>3.508388e+09</td>\n",
       "    </tr>\n",
       "    <tr>\n",
       "      <th>43</th>\n",
       "      <td>2019</td>\n",
       "      <td>ANNUITY</td>\n",
       "      <td>0.000000e+00</td>\n",
       "    </tr>\n",
       "    <tr>\n",
       "      <th>44</th>\n",
       "      <td>2019</td>\n",
       "      <td>BOND</td>\n",
       "      <td>7.698340e+05</td>\n",
       "    </tr>\n",
       "    <tr>\n",
       "      <th>45</th>\n",
       "      <td>2019</td>\n",
       "      <td>ISA</td>\n",
       "      <td>1.028546e+06</td>\n",
       "    </tr>\n",
       "    <tr>\n",
       "      <th>46</th>\n",
       "      <td>2019</td>\n",
       "      <td>PENSION</td>\n",
       "      <td>9.196420e+05</td>\n",
       "    </tr>\n",
       "    <tr>\n",
       "      <th>47</th>\n",
       "      <td>2019</td>\n",
       "      <td>RETIREMENT</td>\n",
       "      <td>5.044600e+08</td>\n",
       "    </tr>\n",
       "  </tbody>\n",
       "</table>\n",
       "</div>"
      ],
      "text/plain": [
       "    Year Product Category Policy_Value_Snapshot\n",
       "                                            sum\n",
       "0   2009          ANNUITY          0.000000e+00\n",
       "1   2009             BOND          1.361225e+06\n",
       "2   2009              ISA          2.533104e+06\n",
       "3   2009          PENSION          1.025448e+06\n",
       "4   2010          ANNUITY          0.000000e+00\n",
       "5   2010             BOND          7.926164e+06\n",
       "6   2010              ISA          1.315401e+07\n",
       "7   2010          PENSION          9.442044e+06\n",
       "8   2011          ANNUITY          0.000000e+00\n",
       "9   2011             BOND          1.491176e+07\n",
       "10  2011              ISA          1.979095e+07\n",
       "11  2011          PENSION          1.645424e+07\n",
       "12  2012          ANNUITY          0.000000e+00\n",
       "13  2012             BOND          2.165176e+07\n",
       "14  2012              ISA          2.598121e+07\n",
       "15  2012          PENSION          2.376105e+07\n",
       "16  2013          ANNUITY          0.000000e+00\n",
       "17  2013             BOND          2.786883e+07\n",
       "18  2013              ISA          3.236500e+07\n",
       "19  2013          PENSION          3.000624e+07\n",
       "20  2014          ANNUITY          0.000000e+00\n",
       "21  2014             BOND          3.173861e+07\n",
       "22  2014              ISA          3.824853e+07\n",
       "23  2014          PENSION          3.469751e+07\n",
       "24  2015          ANNUITY          0.000000e+00\n",
       "25  2015             BOND          2.993973e+07\n",
       "26  2015              ISA          3.526022e+07\n",
       "27  2015          PENSION          3.276575e+07\n",
       "28  2016          ANNUITY          0.000000e+00\n",
       "29  2016             BOND          2.409454e+07\n",
       "30  2016              ISA          2.878935e+07\n",
       "31  2016          PENSION          2.663021e+07\n",
       "32  2016       RETIREMENT          1.788627e+08\n",
       "33  2017          ANNUITY          0.000000e+00\n",
       "34  2017             BOND          1.824934e+07\n",
       "35  2017              ISA          2.231848e+07\n",
       "36  2017          PENSION          2.049467e+07\n",
       "37  2017       RETIREMENT          1.094068e+09\n",
       "38  2018          ANNUITY          0.000000e+00\n",
       "39  2018             BOND          1.240415e+07\n",
       "40  2018              ISA          1.584761e+07\n",
       "41  2018          PENSION          1.435912e+07\n",
       "42  2018       RETIREMENT          3.508388e+09\n",
       "43  2019          ANNUITY          0.000000e+00\n",
       "44  2019             BOND          7.698340e+05\n",
       "45  2019              ISA          1.028546e+06\n",
       "46  2019          PENSION          9.196420e+05\n",
       "47  2019       RETIREMENT          5.044600e+08"
      ]
     },
     "execution_count": 60,
     "metadata": {},
     "output_type": "execute_result"
    }
   ],
   "source": [
    "fund_viz_df"
   ]
  },
  {
   "cell_type": "code",
   "execution_count": 61,
   "metadata": {
    "id": "TaiKq7I27N6_"
   },
   "outputs": [],
   "source": [
    "Fund_Table_month = Fund_Table_Year.groupby(['year', 'month']).agg({'Policy_Value_Snapshot': ['sum']}).reset_index()"
   ]
  },
  {
   "cell_type": "code",
   "execution_count": 62,
   "metadata": {
    "colab": {
     "base_uri": "https://localhost:8080/",
     "height": 455
    },
    "id": "QUUGDX0292uI",
    "outputId": "56026685-3a68-493a-a124-068cef15472d"
   },
   "outputs": [
    {
     "data": {
      "text/html": [
       "<div>\n",
       "<style scoped>\n",
       "    .dataframe tbody tr th:only-of-type {\n",
       "        vertical-align: middle;\n",
       "    }\n",
       "\n",
       "    .dataframe tbody tr th {\n",
       "        vertical-align: top;\n",
       "    }\n",
       "\n",
       "    .dataframe thead tr th {\n",
       "        text-align: left;\n",
       "    }\n",
       "</style>\n",
       "<table border=\"1\" class=\"dataframe\">\n",
       "  <thead>\n",
       "    <tr>\n",
       "      <th></th>\n",
       "      <th>year</th>\n",
       "      <th>month</th>\n",
       "      <th>Policy_Value_Snapshot</th>\n",
       "    </tr>\n",
       "    <tr>\n",
       "      <th></th>\n",
       "      <th></th>\n",
       "      <th></th>\n",
       "      <th>sum</th>\n",
       "    </tr>\n",
       "  </thead>\n",
       "  <tbody>\n",
       "    <tr>\n",
       "      <th>0</th>\n",
       "      <td>2009</td>\n",
       "      <td>7</td>\n",
       "      <td>1.971680e+05</td>\n",
       "    </tr>\n",
       "    <tr>\n",
       "      <th>1</th>\n",
       "      <td>2009</td>\n",
       "      <td>8</td>\n",
       "      <td>4.421958e+05</td>\n",
       "    </tr>\n",
       "    <tr>\n",
       "      <th>2</th>\n",
       "      <td>2009</td>\n",
       "      <td>9</td>\n",
       "      <td>7.840676e+05</td>\n",
       "    </tr>\n",
       "    <tr>\n",
       "      <th>3</th>\n",
       "      <td>2009</td>\n",
       "      <td>10</td>\n",
       "      <td>9.016460e+05</td>\n",
       "    </tr>\n",
       "    <tr>\n",
       "      <th>4</th>\n",
       "      <td>2009</td>\n",
       "      <td>11</td>\n",
       "      <td>1.215510e+06</td>\n",
       "    </tr>\n",
       "    <tr>\n",
       "      <th>...</th>\n",
       "      <td>...</td>\n",
       "      <td>...</td>\n",
       "      <td>...</td>\n",
       "    </tr>\n",
       "    <tr>\n",
       "      <th>110</th>\n",
       "      <td>2018</td>\n",
       "      <td>9</td>\n",
       "      <td>3.506112e+08</td>\n",
       "    </tr>\n",
       "    <tr>\n",
       "      <th>111</th>\n",
       "      <td>2018</td>\n",
       "      <td>10</td>\n",
       "      <td>3.835089e+08</td>\n",
       "    </tr>\n",
       "    <tr>\n",
       "      <th>112</th>\n",
       "      <td>2018</td>\n",
       "      <td>11</td>\n",
       "      <td>4.199119e+08</td>\n",
       "    </tr>\n",
       "    <tr>\n",
       "      <th>113</th>\n",
       "      <td>2018</td>\n",
       "      <td>12</td>\n",
       "      <td>4.635026e+08</td>\n",
       "    </tr>\n",
       "    <tr>\n",
       "      <th>114</th>\n",
       "      <td>2019</td>\n",
       "      <td>1</td>\n",
       "      <td>5.071780e+08</td>\n",
       "    </tr>\n",
       "  </tbody>\n",
       "</table>\n",
       "<p>115 rows × 3 columns</p>\n",
       "</div>"
      ],
      "text/plain": [
       "     year month Policy_Value_Snapshot\n",
       "                                  sum\n",
       "0    2009     7          1.971680e+05\n",
       "1    2009     8          4.421958e+05\n",
       "2    2009     9          7.840676e+05\n",
       "3    2009    10          9.016460e+05\n",
       "4    2009    11          1.215510e+06\n",
       "..    ...   ...                   ...\n",
       "110  2018     9          3.506112e+08\n",
       "111  2018    10          3.835089e+08\n",
       "112  2018    11          4.199119e+08\n",
       "113  2018    12          4.635026e+08\n",
       "114  2019     1          5.071780e+08\n",
       "\n",
       "[115 rows x 3 columns]"
      ]
     },
     "execution_count": 62,
     "metadata": {},
     "output_type": "execute_result"
    }
   ],
   "source": [
    "Fund_Table_month"
   ]
  },
  {
   "cell_type": "markdown",
   "metadata": {},
   "source": [
    "# Sales per Month"
   ]
  },
  {
   "cell_type": "code",
   "execution_count": 63,
   "metadata": {
    "colab": {
     "base_uri": "https://localhost:8080/",
     "height": 298
    },
    "id": "Xy5GirKb7N7A",
    "outputId": "14452bd9-9d87-4467-a295-d59b8a517bd5"
   },
   "outputs": [
    {
     "data": {
      "text/plain": [
       "Text(0.5, 1.0, 'Sales per Month')"
      ]
     },
     "execution_count": 63,
     "metadata": {},
     "output_type": "execute_result"
    },
    {
     "data": {
      "image/png": "[encoded data removed]",
      "text/plain": [
       "<Figure size 432x288 with 1 Axes>"
      ]
     },
     "metadata": {
      "needs_background": "light"
     },
     "output_type": "display_data"
    }
   ],
   "source": [
    "Fund_Table_month['Policy_Value_Snapshot'].plot(kind='line')\n",
    "plt.xlabel('')\n",
    "plt.ylabel(\"Value\")\n",
    "plt.title(\"Sales per Month\")"
   ]
  },
  {
   "cell_type": "markdown",
   "metadata": {},
   "source": [
    "# AGE DISTRIBUTION"
   ]
  },
  {
   "cell_type": "code",
   "execution_count": 64,
   "metadata": {
    "colab": {
     "base_uri": "https://localhost:8080/",
     "height": 312
    },
    "id": "F2zs1QEw7N7A",
    "outputId": "d4f24f9c-c784-4562-a1a5-d9c970afc0db"
   },
   "outputs": [
    {
     "data": {
      "text/plain": [
       "Text(0.5, 1.0, 'AGE DISTRIBUTION')"
      ]
     },
     "execution_count": 64,
     "metadata": {},
     "output_type": "execute_result"
    },
    {
     "data": {
      "image/png": "[encoded data removed]",
      "text/plain": [
       "<Figure size 432x288 with 1 Axes>"
      ]
     },
     "metadata": {
      "needs_background": "light"
     },
     "output_type": "display_data"
    }
   ],
   "source": [
    "Customer_Table.hist('Age', bins = [20, 25,30,35,40,45,50,55,60,65,70,75,80,85,90,95,100])\n",
    "plt.xlabel(\"Age Group\")\n",
    "plt.ylabel(\"Number of People\")\n",
    "plt.title('AGE DISTRIBUTION')"
   ]
  },
  {
   "cell_type": "code",
   "execution_count": 66,
   "metadata": {},
   "outputs": [],
   "source": [
    "all_data_query = '''SELECT *\n",
    "FROM Customer_Table as ct\n",
    "INNER JOIN \n",
    "Policy_Table as pt\n",
    "ON ct.\"customer id\" = pt.\"customer id\"\n",
    "INNER JOIN \n",
    "Fund_Table as ft\n",
    "ON pt.\"customer id\"=ft.\"customer id\" and pt.\"Policy Number\"=ft.\"Policy Number\"\n",
    "'''\n",
    "all_data = pd.read_sql( all_data_query , conn)\n",
    "all_data.drop(columns=['index'],inplace=True)\n",
    "all_data.columns = ['Customer ID', 'Email', 'Gender', 'Age', 'Postcode', 'Policy Number',\n",
    "       'Customer ID1', 'Product Category', 'Product Name', 'Policy Value',\n",
    "       'Policy Start Date', 'Policy Number1', 'Customer ID2', 'Date',\n",
    "       'Product Category1', 'Product Name1', 'Policy_Value_Snapshot']\n",
    "all_data.drop(columns=['Customer ID1', 'Policy Number1','Customer ID2', 'Product Name1','Product Category1'],inplace=True)\n",
    "viz_all = all_data.copy()\n",
    "viz_all = viz_all.groupby(['Product Name']).agg(total_current_policy_value=pd.NamedAgg(column=\"Policy Value\", aggfunc=\"sum\"),\n",
    "                                                total_previous_policy_value=pd.NamedAgg(column=\"Policy_Value_Snapshot\", aggfunc=\"sum\"))\n",
    "viz_all.reset_index(inplace=True)"
   ]
  },
  {
   "cell_type": "code",
   "execution_count": 67,
   "metadata": {
    "colab": {
     "base_uri": "https://localhost:8080/",
     "height": 855
    },
    "id": "ppNbxavA7N7B",
    "outputId": "6af72486-6fba-4a02-c46e-1a3dff6bb42d"
   },
   "outputs": [
    {
     "data": {
      "text/plain": [
       "<Figure size 720x720 with 0 Axes>"
      ]
     },
     "execution_count": 67,
     "metadata": {},
     "output_type": "execute_result"
    },
    {
     "data": {
      "image/png": "[encoded data removed]",
      "text/plain": [
       "<Figure size 720x720 with 1 Axes>"
      ]
     },
     "metadata": {
      "needs_background": "light"
     },
     "output_type": "display_data"
    },
    {
     "data": {
      "text/plain": [
       "<Figure size 720x720 with 0 Axes>"
      ]
     },
     "metadata": {},
     "output_type": "display_data"
    }
   ],
   "source": [
    "viz_all=viz_all[viz_all['Product Name']!='RETIREMENT ACCOUNT']\n",
    "viz_all.plot.bar(y=\"total_current_policy_value\", x=\"Product Name\", rot=70, title=\"Policy Value per Product Name\",color=[\"green\",\"red\",\"yellow\",\"blue\"],subplots=True, figsize=(10,10))\n",
    "plt.figure(figsize= (10,10))"
   ]
  },
  {
   "cell_type": "code",
   "execution_count": 68,
   "metadata": {
    "id": "UDfvpSkTbphW"
   },
   "outputs": [
    {
     "data": {
      "text/plain": [
       "Index(['Policy Number', 'Customer ID', 'Date', 'Product Category',\n",
       "       'Product Name', 'Policy_Value_Snapshot', 'Year', 'Month'],\n",
       "      dtype='object')"
      ]
     },
     "execution_count": 68,
     "metadata": {},
     "output_type": "execute_result"
    }
   ],
   "source": [
    "fund_viz_df = Fund_Table.copy()\n",
    "fund_viz_df['Year'] = pd.DatetimeIndex(fund_viz_df['Date']).year\n",
    "fund_viz_df['Month'] = pd.DatetimeIndex(fund_viz_df['Date']).month\n",
    "fund_viz_df.columns"
   ]
  },
  {
   "cell_type": "code",
   "execution_count": 69,
   "metadata": {
    "id": "ckJ4jleaZ1pG"
   },
   "outputs": [],
   "source": [
    "fv = fund_viz_df.groupby(['Year', 'Product Category']).agg({'Policy_Value_Snapshot': ['sum']}).reset_index()"
   ]
  },
  {
   "cell_type": "markdown",
   "metadata": {},
   "source": [
    "# Policy Value per Product Name"
   ]
  },
  {
   "cell_type": "code",
   "execution_count": 70,
   "metadata": {},
   "outputs": [
    {
     "data": {
      "text/plain": [
       "<Figure size 720x720 with 0 Axes>"
      ]
     },
     "execution_count": 70,
     "metadata": {},
     "output_type": "execute_result"
    },
    {
     "data": {
      "image/png": "[encoded data removed]",
      "text/plain": [
       "<Figure size 720x720 with 1 Axes>"
      ]
     },
     "metadata": {
      "needs_background": "light"
     },
     "output_type": "display_data"
    },
    {
     "data": {
      "text/plain": [
       "<Figure size 720x720 with 0 Axes>"
      ]
     },
     "metadata": {},
     "output_type": "display_data"
    }
   ],
   "source": [
    "Fund_Table_month\n",
    "multi = fv.set_index(['Year','Product Category'])\n",
    "#multi.plot.bar\n",
    "multi\n",
    "viz_all=viz_all[viz_all['Product Name']!='RETIREMENT ACCOUNT']\n",
    "viz_all.plot.bar(y=\"total_current_policy_value\", x=\"Product Name\", rot=70, title=\"Policy Value per Product Name\",color=[\"green\",\"red\",\"yellow\",\"blue\"],subplots=True, figsize=(10,10))\n",
    "plt.figure(figsize= (10,10))\n",
    "#tt.plot(x = 'Policy_Value_Snapshot', y = 'Year', kind = 'hexbin', gridsize = 20)"
   ]
  },
  {
   "cell_type": "markdown",
   "metadata": {},
   "source": [
    "# Policy Value vs Policy & year-wise distribution"
   ]
  },
  {
   "cell_type": "code",
   "execution_count": 73,
   "metadata": {
    "colab": {
     "base_uri": "https://localhost:8080/",
     "height": 989
    },
    "id": "LX5DW8FBdK97",
    "outputId": "22f77185-452f-4290-bf6d-9be5ec7c055a"
   },
   "outputs": [
    {
     "data": {
      "text/plain": [
       "Text(0.5, 1.0, 'Policy Value vs Policy & year-wise distribution')"
      ]
     },
     "execution_count": 73,
     "metadata": {},
     "output_type": "execute_result"
    },
    {
     "data": {
      "image/png": "[encoded data removed]",
      "text/plain": [
       "<Figure size 1440x1080 with 1 Axes>"
      ]
     },
     "metadata": {
      "needs_background": "light"
     },
     "output_type": "display_data"
    }
   ],
   "source": [
    "multi = fv.set_index(['Year','Product Category'])\n",
    "multi\n",
    "multi.plot.bar(rot=60, figsize=(20,15))\n",
    "plt.title(\"Policy Value vs Policy & year-wise distribution\")"
   ]
  },
  {
   "cell_type": "markdown",
   "metadata": {},
   "source": [
    "# Histogram of Policy Value"
   ]
  },
  {
   "cell_type": "code",
   "execution_count": 74,
   "metadata": {
    "colab": {
     "base_uri": "https://localhost:8080/",
     "height": 280
    },
    "id": "IVlHQuVIa9pS",
    "outputId": "e73cfd58-b6cc-4532-e387-225d19c2e82c"
   },
   "outputs": [
    {
     "data": {
      "image/png": "[encoded data removed]",
      "text/plain": [
       "<Figure size 432x288 with 1 Axes>"
      ]
     },
     "metadata": {
      "needs_background": "light"
     },
     "output_type": "display_data"
    }
   ],
   "source": [
    "plt.hist(fv['Year'], histtype='bar', align='mid', color='c', label='Policy Value Data',edgecolor='black')\n",
    "plt.legend(loc=2)\n",
    "plt.title('Histogram of Policy Value')\n",
    "plt.show()"
   ]
  },
  {
   "cell_type": "code",
   "execution_count": null,
   "metadata": {
    "id": "icddZuXya-Lt"
   },
   "outputs": [],
   "source": []
  }
 ],
 "metadata": {
  "celltoolbar": "Raw Cell Format",
  "colab": {
   "collapsed_sections": [
    "xo7J9eKK7N6x",
    "p2tpCueN7N6y",
    "MlhRzMYW7N60",
    "ts2ybj_w7N62"
   ],
   "name": "Final_Pru_Data_Test.ipynb",
   "provenance": []
  },
  "kernelspec": {
   "display_name": "Python 3",
   "language": "python",
   "name": "python3"
  },
  "language_info": {
   "codemirror_mode": {
    "name": "ipython",
    "version": 3
   },
   "file_extension": ".py",
   "mimetype": "text/x-python",
   "name": "python",
   "nbconvert_exporter": "python",
   "pygments_lexer": "ipython3",
   "version": "3.8.3"
  },
  "toc": {
   "colors": {
    "hover_highlight": "#DAA520",
    "running_highlight": "#FF0000",
    "selected_highlight": "#FFD700"
   },
   "moveMenuLeft": true,
   "nav_menu": {},
   "navigate_menu": true,
   "number_sections": true,
   "sideBar": true,
   "skip_h1_title": false,
   "threshold": 4,
   "toc_cell": false,
   "toc_position": {
    "height": "977px",
    "left": "0px",
    "right": "1457.01px",
    "top": "107px",
    "width": "214px"
   },
   "toc_section_display": "block",
   "toc_window_display": true
  }
 },
 "nbformat": 4,
 "nbformat_minor": 1
}
